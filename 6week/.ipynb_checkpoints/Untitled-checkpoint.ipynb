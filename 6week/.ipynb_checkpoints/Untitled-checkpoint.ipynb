{
 "cells": [
  {
   "cell_type": "markdown",
   "id": "7c483582-b693-4007-9e1a-96e750ad4fa4",
   "metadata": {
    "editable": true,
    "slideshow": {
     "slide_type": ""
    },
    "tags": []
   },
   "source": [
    "# Nescessary imports"
   ]
  },
  {
   "cell_type": "code",
   "execution_count": 6,
   "id": "269dd93f-8625-4702-a262-8152619fe14d",
   "metadata": {
    "editable": true,
    "slideshow": {
     "slide_type": ""
    },
    "tags": []
   },
   "outputs": [],
   "source": [
    "import numpy as np\n",
    "import pandas as pd\n",
    "import matplotlib.pyplot as plt\n",
    "from sklearn.linear_model import LinearRegression\n",
    "from sklearn.linear_model import Ridge\n",
    "from sklearn.linear_model import Lasso\n",
    "from sklearn.linear_model import ElasticNet"
   ]
  },
  {
   "cell_type": "markdown",
   "id": "ef378875-72c4-4423-abdf-dce984f3a732",
   "metadata": {},
   "source": [
    "# Creating DataSet"
   ]
  },
  {
   "cell_type": "code",
   "execution_count": 3,
   "id": "47f4df32-5d5c-4d9b-8c7d-cc250848a164",
   "metadata": {},
   "outputs": [
    {
     "data": {
      "text/html": [
       "<div>\n",
       "<style scoped>\n",
       "    .dataframe tbody tr th:only-of-type {\n",
       "        vertical-align: middle;\n",
       "    }\n",
       "\n",
       "    .dataframe tbody tr th {\n",
       "        vertical-align: top;\n",
       "    }\n",
       "\n",
       "    .dataframe thead th {\n",
       "        text-align: right;\n",
       "    }\n",
       "</style>\n",
       "<table border=\"1\" class=\"dataframe\">\n",
       "  <thead>\n",
       "    <tr style=\"text-align: right;\">\n",
       "      <th></th>\n",
       "      <th>House_Size_sqft</th>\n",
       "      <th>House_Price_$</th>\n",
       "    </tr>\n",
       "  </thead>\n",
       "  <tbody>\n",
       "    <tr>\n",
       "      <th>0</th>\n",
       "      <td>1360</td>\n",
       "      <td>143298.411528</td>\n",
       "    </tr>\n",
       "    <tr>\n",
       "      <th>1</th>\n",
       "      <td>1794</td>\n",
       "      <td>302782.708347</td>\n",
       "    </tr>\n",
       "    <tr>\n",
       "      <th>2</th>\n",
       "      <td>1630</td>\n",
       "      <td>267975.779035</td>\n",
       "    </tr>\n",
       "    <tr>\n",
       "      <th>3</th>\n",
       "      <td>1595</td>\n",
       "      <td>206317.067310</td>\n",
       "    </tr>\n",
       "    <tr>\n",
       "      <th>4</th>\n",
       "      <td>2138</td>\n",
       "      <td>354706.845817</td>\n",
       "    </tr>\n",
       "  </tbody>\n",
       "</table>\n",
       "</div>"
      ],
      "text/plain": [
       "   House_Size_sqft  House_Price_$\n",
       "0             1360  143298.411528\n",
       "1             1794  302782.708347\n",
       "2             1630  267975.779035\n",
       "3             1595  206317.067310\n",
       "4             2138  354706.845817"
      ]
     },
     "execution_count": 3,
     "metadata": {},
     "output_type": "execute_result"
    }
   ],
   "source": [
    "# Generate synthetic data for house sizes (X) and house prices (y)\n",
    "np.random.seed(42)\n",
    "\n",
    "# Feature: House sizes (in square feet) between 500 and 3500\n",
    "house_sizes = np.random.randint(500, 3500, size=50)\n",
    "\n",
    "# Target: Prices based on a hypothetical linear relation with some added noise\n",
    "house_prices = 100 + house_sizes * 150 + np.random.normal(0, 30000, size=house_sizes.shape)\n",
    "\n",
    "# Create a DataFrame for easy export and study\n",
    "data = pd.DataFrame({'House_Size_sqft': house_sizes, 'House_Price_$': house_prices})\n",
    "data.head()"
   ]
  },
  {
   "cell_type": "code",
   "execution_count": null,
   "id": "9509bd3d-07ad-4f24-bde7-d31ae09bb6e6",
   "metadata": {},
   "outputs": [],
   "source": []
  }
 ],
 "metadata": {
  "kernelspec": {
   "display_name": "Python 3 (ipykernel)",
   "language": "python",
   "name": "python3"
  },
  "language_info": {
   "codemirror_mode": {
    "name": "ipython",
    "version": 3
   },
   "file_extension": ".py",
   "mimetype": "text/x-python",
   "name": "python",
   "nbconvert_exporter": "python",
   "pygments_lexer": "ipython3",
   "version": "3.12.3"
  }
 },
 "nbformat": 4,
 "nbformat_minor": 5
}
