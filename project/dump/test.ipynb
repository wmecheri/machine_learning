{
 "cells": [
  {
   "cell_type": "code",
   "execution_count": null,
   "id": "db7a17aa-71af-471e-a1ec-108ecb5c9df2",
   "metadata": {
    "scrolled": true
   },
   "outputs": [
    {
     "name": "stderr",
     "output_type": "stream",
     "text": [
      "Processing files:   1%|█▋                                                                                                                                   | 13/1000 [00:00<00:08, 120.72file/s]"
     ]
    },
    {
     "name": "stdout",
     "output_type": "stream",
     "text": [
      "File 'cc7c4066fdea25bb25605d50c604bbbb876d31d2.json' contains 20 records.\n",
      "File '1f87e48ea63fbd7ff7488acdf804ad47255245fd.json' contains 20 records.\n",
      "File '49d4f794e06322c701344e6b9ea0335967800b7c.json' contains 19 records.\n",
      "File '045fd99a3453502c5741beef91c6ec26cdd4970b.json' contains 19 records.\n",
      "File '0c1f8274ad045c27214e9f635b6c2749110f3c5b.json' contains 20 records.\n",
      "File 'dc7180516fd6872e97f8ffb6379f9807d21c76e9.json' contains 17 records.\n",
      "File '40303571d2b1bb5ce2e60ac40cce9d516b77fdf5.json' contains 19 records.\n",
      "File 'd00bb4036d731dcaa6d29911db6c31bc3c5bffe7.json' contains 19 records.\n",
      "File 'fb7525dbaa0f965bd32473d0d91dbc6ce27c2f8b.json' contains 19 records.\n",
      "File 'aadb3009cc7bae8aa90b9ca62ab11641e29ec704.json' contains 20 records.\n",
      "File '0a970e00653b93cc0db69ff054165243dc95ca29.json' contains 20 records.\n",
      "File '8a470dbcdcd4237313bdcfb01fbeff55ffb47cbf.json' contains 20 records.\n",
      "File '35ae156dca644306948daa234317e7c1d97180bb.json' contains 20 records.\n",
      "File '0200e5be6e022aa20eca803270e858621ccb47d9.json' contains 20 records.\n",
      "File '9c95e89d169b72b298d39d451880d0d1b094cc7b.json' contains 20 records.\n",
      "File 'f665c2f1e5a0d8a34cf813350e7558a49c5a734b.json' contains 20 records.\n",
      "File 'f2677487ef0b8d2380e47acfc7df9d2d1369362e.json' contains 20 records.\n",
      "File '59e01c9c63d28fdfae4ccbc528ffc96042c43456.json' contains 20 records.\n",
      "File '7a3b3be060b74442ad3a9b01f51b1f0a0db92cdc.json' contains 20 records.\n",
      "File '2163f694e8c9204231696ef3c964d8770b4496b6.json' contains 20 records.\n",
      "File '41e0ee0d31b16f5f17c071eda1cf688286ba0ffa.json' contains 20 records.\n",
      "File '9bf85aee05340b1968cd717f781b35808e8a59a2.json' contains 20 records.\n",
      "File 'aa0908f0224e680290f7fe2ef582e9d7922585bd.json' contains 20 records.\n",
      "File '3743412bafa0804f114ae258434693ae15bd4a1d.json' contains 19 records.\n",
      "File 'a5b439b4ef020ca285d99fba4b84a752c7836550.json' contains 19 records.\n"
     ]
    },
    {
     "name": "stderr",
     "output_type": "stream",
     "text": [
      "Processing files:   4%|█████                                                                                                                                | 38/1000 [00:00<00:08, 118.14file/s]"
     ]
    },
    {
     "name": "stdout",
     "output_type": "stream",
     "text": [
      "File '010f2f9394f5a19334fefbac759286a22e3766c7.json' contains 19 records.\n",
      "File '4a788bf651b811ee8f268d8d9bcef2a5e2aca1c7.json' contains 20 records.\n",
      "File '1e48912be9fb54ce6d34cf1a5bf9452e4b726295.json' contains 19 records.\n",
      "File '166e4eb64ab9559b27dea4abb36bdbd9ac814245.json' contains 20 records.\n",
      "File 'b1acbd4e3dccfe731d1a406a5ce37df38b6bc951.json' contains 20 records.\n",
      "File '83b60f1c72eaeb4fcf8cfb10d4aff21f9d9435c9.json' contains 19 records.\n",
      "File '3f0201670eb70c03af266e427b654c585b034d5b.json' contains 20 records.\n",
      "File '2084d6ba35ac4cf30a7876c8e47e6d6b5864a3c6.json' contains 20 records.\n",
      "File '3ae97855085cf40d030a51b7c0ce0d2ebdcaa87f.json' contains 20 records.\n",
      "File 'ef563f4d5dac45ae69925ada18990775fe0fb51c.json' contains 19 records.\n",
      "File 'b78498ecac33be16ec08a37736f7c18185c86275.json' contains 20 records.\n",
      "File '20d756159010e18c2adf28927b3996b3311dedfe.json' contains 20 records.\n",
      "File '1148253ea74822ab323c6cbdae37f9a4a16c8175.json' contains 20 records.\n",
      "File '022610860c682a2eb22a61309198340bf2c7e5d6.json' contains 20 records.\n",
      "File '384ad55509f0303215c7b4106e2a246ce9844832.json' contains 19 records.\n",
      "File '12aa505d542d02638ade7d529d5c97e48434311f.json' contains 20 records.\n",
      "File '86643171717c4132f6d384592b85270d4c8c3e89.json' contains 19 records.\n",
      "File 'bdb31adc61636f83fca0616c1242b9328c186666.json' contains 20 records.\n",
      "File '5c730e4de0c35f5f9b6d8f28800d2d62641b3b27.json' contains 20 records.\n",
      "File 'aef7864ba0900842788018fdb7f1daa620dee9b5.json' contains 20 records.\n",
      "File '6ffed5f2f189906eaf1d627e2b7de78351304fab.json' contains 20 records.\n",
      "File '292300899b48da156bbe339176a55b7f553db86d.json' contains 19 records.\n",
      "File 'ab089b76eb6d703b76b8d823d509fcde85a29ea1.json' contains 20 records.\n",
      "File 'cbdfb345493c8f0698f1c97b16158079915eb296.json' contains 20 records.\n"
     ]
    },
    {
     "name": "stderr",
     "output_type": "stream",
     "text": [
      "Processing files:   6%|████████▏                                                                                                                            | 62/1000 [00:00<00:08, 112.80file/s]"
     ]
    },
    {
     "name": "stdout",
     "output_type": "stream",
     "text": [
      "File '0aba922981b6272ee1350188ae7cc89d84cf0655.json' contains 20 records.\n",
      "File 'df8accbfb8fc6526971f7aabe2e9a73297daf0d2.json' contains 20 records.\n",
      "File 'a49e48e433927c565c6d572edfb8ef80729559ab.json' contains 20 records.\n",
      "File 'f3eadb42825f6cf8298cbc2b30cf0d3881214a40.json' contains 20 records.\n",
      "File 'f8cdca259f4fa4e82d4bec53c573d126afce6658.json' contains 20 records.\n",
      "File '97f443c94c6d40f48baf60202146cebb176ea5e0.json' contains 20 records.\n",
      "File '8bdf1053b0fdb074ead0b6ff781107f36f933d5b.json' contains 18 records.\n",
      "File 'b50dcfd07e0309a7fce69536e3d10e754ea1d1aa.json' contains 20 records.\n",
      "File '6cfcf9c84969cc2cbe28bf8373cb350bcb209b7a.json' contains 19 records.\n",
      "File 'dac656596d7586db6831ec56ab40b53d6c7e2f4b.json' contains 20 records.\n",
      "File '4f727faed15c3f0fc65505bee136970e89d57fa9.json' contains 20 records.\n",
      "File '05cbd2afd2073ab41dfda75d87c84fcf56b02a98.json' contains 18 records.\n",
      "File 'aad954f093805d89cde2721407f7a65aba890564.json' contains 20 records.\n",
      "File 'dc4ef042b99200668886393936175dc884925d50.json' contains 20 records.\n",
      "File '0ed1464cd99bf5137725f888ddbc2b943836fbeb.json' contains 20 records.\n",
      "File '45043c634196f69206843e569fd01e9e32dd9c5c.json' contains 19 records.\n",
      "File '1ee799fd7f5e9f4edc92f1d3587fa572104f4a98.json' contains 20 records.\n",
      "File '939dee77b33558a7acfd1eb4def7249ab10e42b2.json' contains 19 records.\n",
      "File 'c781ea1c2b010b3425df335ec6802afe507b5142.json' contains 20 records.\n",
      "File 'e19e9d1718389a900002e86084c416e571e61822.json' contains 20 records.\n",
      "File '50302aa248065d9539ff7a83dfde37dfb859ae58.json' contains 20 records.\n",
      "File '8a3e10378b4e2511050c28f570942b85f44095c2.json' contains 20 records.\n",
      "File '111dfd95202270830ebc7231a1eaf860d3ef996d.json' contains 20 records.\n",
      "File '71320aa80c9be6525a7cd7b57a52bccb8dcad015.json' contains 20 records.\n",
      "File 'e9ea42e384a8076d66ba8dc52eb5fad195e63a5f.json' contains 20 records.\n"
     ]
    },
    {
     "name": "stderr",
     "output_type": "stream",
     "text": [
      "Processing files:   9%|███████████▋                                                                                                                         | 88/1000 [00:00<00:07, 117.52file/s]"
     ]
    },
    {
     "name": "stdout",
     "output_type": "stream",
     "text": [
      "File '1ab27f84c98b62fdb141bead2efa8699618c9196.json' contains 20 records.\n",
      "File 'b42ae546c4e9214531582400369af86defd69ed7.json' contains 20 records.\n",
      "File '6a018ff518b62089dc0f1449c6629bd43d20d7f8.json' contains 20 records.\n",
      "File '71f357db16aaac13c520fc4c6ccbba3b64796fec.json' contains 20 records.\n",
      "File '5396a43e2fb618bf4c301b207c53636fd890636f.json' contains 20 records.\n",
      "File '68868f3d2c421fdd4f0c54864ef84e2f3507bf4a.json' contains 20 records.\n",
      "File '6b680da3382d0344c4b14216b54f1357a32061a5.json' contains 20 records.\n",
      "File 'ad53c384a56252600a65196008da343db7b2bb09.json' contains 20 records.\n",
      "File '63ed220e4f2a12355b70abaaefbee44cf9aa51c9.json' contains 20 records.\n",
      "File '586795eb53724d4a90a9c9c2cf9bd9b38a18a458.json' contains 20 records.\n",
      "File 'd5abde499c91331b39318d771ac54f24f0e4c029.json' contains 20 records.\n",
      "File '804ff28908f2c7b4fc8048f9a784d9725daccd6c.json' contains 20 records.\n",
      "File '2c75715de41cb755701ed1eac7623c4d386e9df1.json' contains 20 records.\n",
      "File 'b59ce81b1caa8e7c437ad82e0f93aafa157914b5.json' contains 20 records.\n",
      "File 'acf8a86787653a3a9776dfa614568ac7d7799b33.json' contains 20 records.\n",
      "File '4aa22ee8d940878bf868e4838fff355fc93a490a.json' contains 20 records.\n",
      "File 'cd5a29007eee6e3710b92e934135f9cfe684d30b.json' contains 20 records.\n",
      "File 'c2873c7162ece0ad7cac69a504b19a278ff85267.json' contains 20 records.\n",
      "File '01106dfd4d48e8de67adba96644eb6f0a304da4f.json' contains 20 records.\n",
      "File '96212009bc2a96a07b8a38f846e8f8f8cca8a463.json' contains 19 records.\n",
      "File '6e5679dcf185a01ed5dc7a133cd7ad667b5ad90e.json' contains 20 records.\n",
      "File '0f31c1e4e03a045d32724b1386d73376da86a83c.json' contains 20 records.\n",
      "File '1951985056f0dece434405363e2d119c4adef8d8.json' contains 19 records.\n",
      "File 'd8645880539b5b89e3ba3e15f9f02458502f765c.json' contains 20 records.\n",
      "File '573d237014258e611237ebd364aee4776cf0a588.json' contains 20 records.\n",
      "File '00f616e6f19489cc1d7f12db1910779fcac1d7af.json' contains 20 records.\n"
     ]
    },
    {
     "name": "stderr",
     "output_type": "stream",
     "text": [
      "Processing files:  11%|██████████████▉                                                                                                                     | 113/1000 [00:00<00:07, 118.52file/s]"
     ]
    },
    {
     "name": "stdout",
     "output_type": "stream",
     "text": [
      "File '80de317c5907a4d21b12dd1464df36d14c9ab8d1.json' contains 19 records.\n",
      "File 'eaacccccc9c76f617a15cff6f26676e1f2731b21.json' contains 20 records.\n",
      "File '5892bed010e04d5eac708318f13fae67fbe10c99.json' contains 20 records.\n",
      "File '7a2a0b919a8edc70f99234ed3c7d3e92c4811fc2.json' contains 20 records.\n",
      "File '1624e082ee109f93c44d9b45c469cc6ccc869d7a.json' contains 20 records.\n",
      "File 'd4e6b9b21a4c448d6d256f386c3c45b490c24074.json' contains 20 records.\n",
      "File '460a6a23bcb7b77b49dece4e1b92942b38f056a8.json' contains 20 records.\n",
      "File '659265cfcca4e5d086c8aaacb09a81ce80ea077f.json' contains 20 records.\n",
      "File 'd823d2b53070159f77cd2c8ef0e97d5db00a0a18.json' contains 20 records.\n",
      "File '1dd0772e2163b2b0416529b0d7031a2a6e952d1d.json' contains 20 records.\n",
      "File 'fe65c917a9d0fe5c10d5f72deac57bd95843decd.json' contains 20 records.\n",
      "File 'f18430da6d5b904c7d80263c908ad682de41c39f.json' contains 20 records.\n",
      "File '95e9a06a7d2372c00c9d9bd80b60875a45315245.json' contains 19 records.\n",
      "File 'b757fbbb2dbf7f887719d8535d08abadabc35a4a.json' contains 19 records.\n",
      "File 'f10d6f66d5482019aee27ecd3f4be7e7e8d8d86d.json' contains 19 records.\n",
      "File 'e2f2c4124a4589e46f2eccd125cca7472c58f6d0.json' contains 20 records.\n",
      "File '7d4d729a0c728cddb63898773bc57f1b996b4e63.json' contains 20 records.\n",
      "File 'ffa53e0a73b89ccddc0534254548edb46ba68e4a.json' contains 20 records.\n",
      "File '92f6888d5f50911aee154558b5b0955e13327b36.json' contains 19 records.\n",
      "File '921c7d94f3907b5dd894b2aff0f21123de0ad0de.json' contains 20 records.\n",
      "File 'b55839cb004491d7fc53260889e1c3b5dfa3692d.json' contains 18 records.\n",
      "File '2aa13d6fd2a86591c7e723c05b3c52158a0d86ea.json' contains 20 records.\n",
      "File 'aa0b3c9413f5eb4ed3051f8735fc0edba1a6939b.json' contains 19 records.\n",
      "File '332c4d78235fb606cd68c4fdf4918b6508c84545.json' contains 19 records.\n",
      "File '5d30ef5e420a8101e5eff0ee9220d35586da08b9.json' contains 20 records.\n",
      "File 'aa5ef31a805a3c2514cdc398b157e621e05f2e1d.json' contains 20 records.\n"
     ]
    },
    {
     "name": "stderr",
     "output_type": "stream",
     "text": [
      "Processing files:  14%|██████████████████▎                                                                                                                 | 139/1000 [00:01<00:07, 121.12file/s]"
     ]
    },
    {
     "name": "stdout",
     "output_type": "stream",
     "text": [
      "File 'b5ecad4d350fccd6176d7923fab384b6c6891537.json' contains 20 records.\n",
      "File 'ef888aba4c8dae80e04013f1dea203bffcfe1716.json' contains 19 records.\n",
      "File 'a8daee5ab497f94ce7ed57cb4d2a15191d93d042.json' contains 20 records.\n",
      "File '7d9405582934c1da63bc4cf950c89d837949c23b.json' contains 20 records.\n",
      "File '82fda39b194f3b7293a76aff141bc6175aa51176.json' contains 20 records.\n",
      "File '3fb40732aede7cc2ac0873777b2a574d21868b89.json' contains 20 records.\n",
      "File 'b95d6a6f53e436089e8f067c6762eb58f79c00db.json' contains 20 records.\n",
      "File 'eee72db2f3f4aa5674b2ec866aed85adb5534442.json' contains 20 records.\n",
      "File 'b7b78ef7564484368ffa479669ff64828e34cc29.json' contains 20 records.\n",
      "File 'fedd68453644480ea99fcd9d60157d5fc14999fc.json' contains 20 records.\n",
      "File '036375f38993563a2b2ef13e09d35300a3add466.json' contains 20 records.\n",
      "File '95615a80295e93eb83e77479dc5d65c4bf6df6ab.json' contains 20 records.\n",
      "File 'acc6ad31f7516e64c7ff33d26cb458739196aed6.json' contains 20 records.\n",
      "File 'db6ee2e4c09c1085bd8475e3fa528b8fc93a5a7c.json' contains 20 records.\n",
      "File '4c2d345e8b64fa1cb2096e998ebbbe0ad952cc29.json' contains 19 records.\n",
      "File 'd0e6e05fb0912f7dd35914ace2df0ef36311b40f.json' contains 20 records.\n",
      "File '59dbeca44f761e4ca58ee6dc4442b2cae43bb8f8.json' contains 20 records.\n",
      "File '1a38cadf78678260b9a8fe69ff3b3fd23112c002.json' contains 20 records.\n",
      "File '7e403c6ad5be30a490ceac17a9b6fd3816c32428.json' contains 19 records.\n",
      "File 'b607f0dc25a849855461ce51a6fdb822859f1c35.json' contains 20 records.\n",
      "File 'e48379f3d09b14cc7f8068e4a4563a4293b9a462.json' contains 20 records.\n",
      "File '98dad66cd3787c6054319c63d30a4ede8f954b31.json' contains 20 records.\n",
      "File '2185660618842fa29aa3a1bf5800f74d4b1b5e4f.json' contains 20 records.\n",
      "File '61a443a1b383d8f60a43a59b750ef7b7dab8a792.json' contains 19 records.\n",
      "File 'b91a87a62163f7cba6688cae04d15a0e24d1e9e3.json' contains 20 records.\n",
      "File 'd7e6fc9df5cf3695dfe7d932267f129e6c80cbb5.json' contains 19 records.\n"
     ]
    },
    {
     "name": "stderr",
     "output_type": "stream",
     "text": [
      "Processing files:  16%|█████████████████████▊                                                                                                              | 165/1000 [00:01<00:06, 120.11file/s]"
     ]
    },
    {
     "name": "stdout",
     "output_type": "stream",
     "text": [
      "File '88f49327ad8656cfaf3de71a6738a83bcd9afbd1.json' contains 20 records.\n",
      "File 'e03ad68eb7c4d1ae4f16350eacd5d041e45b3cf7.json' contains 20 records.\n",
      "File '4a4b7cd92ca2212c39bef0f6945e7020e859764d.json' contains 20 records.\n",
      "File 'f3456e4c2ecedc60d96c221feac201b011a78ed8.json' contains 20 records.\n",
      "File 'b5444e10cbc1c25da7cee7580359636711f9472f.json' contains 20 records.\n",
      "File '59ec1f208dd90820bf975a26903ab164c67dc297.json' contains 20 records.\n",
      "File 'cdd8f3e7423a2736f413f612ea0a1ab76bf97f9a.json' contains 20 records.\n",
      "File 'b96ddeacd8afccf4c7ab61faaa5c7d20718ca217.json' contains 19 records.\n",
      "File 'e1c3799f139a3807d76b0deb57bd502de3648f51.json' contains 20 records.\n",
      "File '1a7f86f0982d5e71e5085939ee756087c76b3666.json' contains 20 records.\n",
      "File '9ecdb948252e63186f6aec821ad653a3cceac1e6.json' contains 20 records.\n",
      "File '8ebd4c896d3a4183a3c17fc6d3965cec81f7d132.json' contains 19 records.\n",
      "File '1b6c257c7ad94e9af635740d281ea84e00fd3163.json' contains 20 records.\n",
      "File 'b4e17e3fe6c075d1022d5b1b2b30da304214419c.json' contains 20 records.\n",
      "File '5433b7af683f35268e9f2347ec88b75cbdd853ad.json' contains 20 records.\n",
      "File '79ecf48e382ccbf4cc79105b88d7028b007347cd.json' contains 20 records.\n",
      "File '73a0c7b8dd1ad4415ab7015827b837f3f7cf6595.json' contains 20 records.\n",
      "File '143f833f99477c366ebd89352a65de57f32dca1f.json' contains 20 records.\n",
      "File '46f7349c7b5aa7787ce28f98f40f2549eb4fa921.json' contains 20 records.\n",
      "File 'ee2da85166ec947836f2f11da3818c119fd7d3d9.json' contains 20 records.\n",
      "File '4327a74b78df586dcf03bd2d8796b29ea8acc14e.json' contains 20 records.\n",
      "File '5b124da5ad2e4845808ca7f6b9ab9504c0d65d4c.json' contains 19 records.\n",
      "File '7573a2939e7043993079311dadacfef49391d703.json' contains 20 records.\n",
      "File '3e08fff8a5f8113116dc04a08090702b0558a2c5.json' contains 20 records.\n",
      "File 'c7006beda0f8de51e4e7869c8fd4fad230b9cb04.json' contains 19 records.\n",
      "File '40807a95110196293d7fd4295bc4fbbf1bd78d45.json' contains 19 records.\n"
     ]
    },
    {
     "name": "stderr",
     "output_type": "stream",
     "text": [
      "Processing files:  19%|█████████████████████████▏                                                                                                          | 191/1000 [00:01<00:06, 123.25file/s]"
     ]
    },
    {
     "name": "stdout",
     "output_type": "stream",
     "text": [
      "File '82c19fdbeff94dd792cd7c3c641e1c359547d168.json' contains 20 records.\n",
      "File '7fe1b5d6ffac1cafe75132e676b13a07037fc09c.json' contains 18 records.\n",
      "File 'd3ebfd200db1c4fcf5e6a4fe320dc7a114b01548.json' contains 20 records.\n",
      "File 'c7abd6703ac391748dcfb29fb5e3a18317fc209c.json' contains 20 records.\n",
      "File '448c87ecc211832f278828328d1b7618e0efd9aa.json' contains 20 records.\n",
      "File 'f0acff1e69dec9f055a8304bc18441582e8391ef.json' contains 20 records.\n",
      "File '4df17f7713ff53ae3c021edb67571796dab99524.json' contains 19 records.\n",
      "File 'be671501279595d997d4b82ad9404dff99c7e09b.json' contains 19 records.\n",
      "File '13758659431c485e47ffdcdb0b38c02259294734.json' contains 20 records.\n",
      "File '3cb1b4ee82814daafdc13a948ffe40f2ad1dc6c6.json' contains 20 records.\n",
      "File 'c2bf270a7a446802247513004244a0b576a56459.json' contains 20 records.\n",
      "File '1369d1169cf0a0aaac9c47eff3647aba6caeda20.json' contains 20 records.\n",
      "File '4fddaa8f3e5e2e09f843074be76b5bd41fb6573f.json' contains 20 records.\n",
      "File 'b9751291eb7962e5e1a6480011139526eab043aa.json' contains 20 records.\n",
      "File '74bf4e7b67ff4c0c14fdb54a48bace9fe77865a6.json' contains 20 records.\n",
      "File '03881ac3bb5721a0ff0594ac1e458e4339eff63e.json' contains 20 records.\n",
      "File '0918fbd99d0f2190d4d45bff7b99ca08b1134a99.json' contains 20 records.\n",
      "File '4617c58f2d11f3b35f0eea753f1b601d22f130c3.json' contains 20 records.\n",
      "File 'aefe78f1eabfad8bf8419bba125517f09a4a63f6.json' contains 19 records.\n",
      "File '2369f5900f57f76845a2b21f9db735bf8e493560.json' contains 20 records.\n",
      "File '9355ad6e68999e14dc2cb207e84b2a8095add3e5.json' contains 20 records.\n",
      "File 'fb6ee79c0df24ab6dd37c6d9a0878a76d16af170.json' contains 19 records.\n",
      "File 'af839ea75c2137a5258043d14b5e9107707a09c9.json' contains 20 records.\n",
      "File '27bde51d2e8d4d30bf624d7ce087cfbaf0917e22.json' contains 20 records.\n",
      "File '3c94408248182787089e979d889c5b624f4d7f9c.json' contains 20 records.\n",
      "File '249feca4c8a2b0ece08b9ce1f992436d75b4e358.json' contains 20 records.\n"
     ]
    },
    {
     "name": "stderr",
     "output_type": "stream",
     "text": [
      "Processing files:  23%|██████████████████████████████▎                                                                                                     | 230/1000 [00:01<00:06, 123.49file/s]"
     ]
    },
    {
     "name": "stdout",
     "output_type": "stream",
     "text": [
      "File '6dbd80e82ebc07f1e2f34bd8b8165d99d0b33416.json' contains 20 records.\n",
      "File '1d2dd3f4ab1a8c210a8729a0e7aa8cdcb0537ce2.json' contains 20 records.\n",
      "File '3cc890cf7ac29d9e8da3a50cc60d10af2e575496.json' contains 20 records.\n",
      "File '163f4880a113883853aabcd1b26d28d34914680f.json' contains 20 records.\n",
      "File 'd52c0105ffc3ae7d05d7337c692ad012b39f3ab8.json' contains 19 records.\n",
      "File '8e5639c143cbd6e6d36a99c2ab9306ee340f8ba8.json' contains 20 records.\n",
      "File '7478a08ca2035c08603edf47c26d5e9f2def477e.json' contains 20 records.\n",
      "File '9cfa6477b99be67b462b296adbe9bbe54aca2e32.json' contains 20 records.\n",
      "File '4a2266e526540c2b66d7c05c6a00e490f961ba0e.json' contains 20 records.\n",
      "File 'fc3d30d937a72023a95d9c639220207be2421ef4.json' contains 19 records.\n",
      "File '80d6dcaf113fdaea462197313988e90774be46ae.json' contains 19 records.\n",
      "File 'c618296f9b1755dd99c4926e2b13964d25dc601e.json' contains 20 records.\n",
      "File '22213cff8eb26b69e5b06a26be80af13dfdfc21c.json' contains 20 records.\n",
      "File 'eecd14365622480d526e745dddd224a98ef2b4ed.json' contains 20 records.\n",
      "File '850cf10dde75f72411f9fad26db6cb265e36f8d5.json' contains 20 records.\n",
      "File '22a39b5d6eea68b50e73d7ec79b15a17d6b3dbac.json' contains 20 records.\n",
      "File '3a5dc153dd1e52683edc2bbd49773c73301b092d.json' contains 20 records.\n",
      "File '02ce842a1a03a33a2f1a17e52335baf50288ebc3.json' contains 19 records.\n",
      "File '39430c01bd88056a104732010e3ebaef374579b8.json' contains 19 records.\n",
      "File '5123ad77aa60b33f00c27ef6f47dacae1007a636.json' contains 20 records.\n",
      "File '93d22df33c439d4d809d3e206fe6ece104939df4.json' contains 20 records.\n",
      "File '4321937313cdfd07b5c201a04e93f4f6a26ce8be.json' contains 20 records.\n",
      "File '7ad9926b67a7ee9799aaa57117c43413a55af49e.json' contains 20 records.\n",
      "File 'abeeeedef5748659d93418df6df9dcf1ab4af979.json' contains 20 records.\n",
      "File '56047d5a0d931914847c2da536e6dfcd5939b294.json' contains 19 records.\n",
      "File '4ee60bc49c75a555e99bd16b5a9795f9f596e342.json' contains 20 records.\n",
      "File '791dd3b0f33ff9720261c3a8be0b5c1528fd5b70.json' contains 19 records.\n"
     ]
    },
    {
     "name": "stderr",
     "output_type": "stream",
     "text": [
      "Processing files:  26%|█████████████████████████████████▊                                                                                                  | 256/1000 [00:02<00:05, 126.35file/s]"
     ]
    },
    {
     "name": "stdout",
     "output_type": "stream",
     "text": [
      "File '7e5342e95958b71e0f46e958e807c7f5b66d73b3.json' contains 20 records.\n",
      "File '12a7ce8f12e4bb80658443308ea84f0eac9057cd.json' contains 20 records.\n",
      "File '7b565c04f72030a0be177ab91f0ac2b010cf231c.json' contains 20 records.\n",
      "File '518e000d3304d2feb38ff000acf7e7305b3bf817.json' contains 20 records.\n",
      "File '2e05fedd6fc527f5614143ffa1a266cf2008cea3.json' contains 20 records.\n",
      "File 'fe9416c2f8ae054704d7d80383226e3d37ee3948.json' contains 20 records.\n",
      "File '4c07f9a867e9aaba02d9279ebb419ee7a14376ee.json' contains 20 records.\n",
      "File 'f4fc1aa7921e7cf7e4bb7ccfdf4ac98e294d0d35.json' contains 20 records.\n",
      "File '6336ab169fa1fe40ecb3aceda9ef1f1a7e8041b7.json' contains 20 records.\n",
      "File '99f24a5241406b4d594967fe829a5e0d5dd16649.json' contains 20 records.\n",
      "File '9937e7c42daabda7da7bc3d031e62686fa4c6578.json' contains 20 records.\n",
      "File 'a4f03b0114908cee9f7af5b97bcb6a5371de6655.json' contains 20 records.\n",
      "File '7ba79f6d976fbafa3a1e102ac72ebc2bf784ebe0.json' contains 19 records.\n",
      "File '054f650e6973c235235b7d4ec31f8b5e91674e84.json' contains 20 records.\n",
      "File '87eada2555efc69d91df1d8ee8f7f0b6d54898c1.json' contains 19 records.\n",
      "File '65b1181707b86411ad00cf103a3fd12464ee44f0.json' contains 20 records.\n",
      "File 'abff5d68687b75e74baf511accb505e96474164e.json' contains 19 records.\n",
      "File '85d62f1ad4c8622674b15b292b1dc78d639c09b9.json' contains 20 records.\n",
      "File '07f7bdb68bd6a2fc26415511f0fca77e123c91b4.json' contains 20 records.\n",
      "File 'f054f7293d34ed8205f00ae3fff283cfb9b73bf2.json' contains 20 records.\n",
      "File '92a8eb1693b365341f313b48116dc8df19247f03.json' contains 19 records.\n",
      "File 'd19641f6da1877677f1dedfb2f46d8a6bb483724.json' contains 20 records.\n",
      "File '69dae0aafb775a64d39942d2981b6be30e352e09.json' contains 20 records.\n",
      "File 'b4eb02eefc7670acf4b7d1923f745df3fa071df2.json' contains 19 records.\n",
      "File '1197693e4c260ad04c6bb609ecb49f783fdf8c43.json' contains 20 records.\n",
      "File 'ed9cde6c2cbed8d8dfc89bc94c7bfdeee023a8fc.json' contains 20 records.\n",
      "File '6d7a75320d13e0af88256bf4e922b21d5bd9b5a2.json' contains 20 records.\n"
     ]
    },
    {
     "name": "stderr",
     "output_type": "stream",
     "text": [
      "Processing files:  28%|█████████████████████████████████████▏                                                                                              | 282/1000 [00:02<00:05, 122.39file/s]"
     ]
    },
    {
     "name": "stdout",
     "output_type": "stream",
     "text": [
      "File '853650ceae2cf22a352450e88c8ea9ee2838af47.json' contains 19 records.\n",
      "File '1319ee99689093e97a5108c7eb11d1c879976e77.json' contains 20 records.\n",
      "File 'f2067c8e166c3cb2e207f0d40273d88766986b74.json' contains 19 records.\n",
      "File 'c4b077e7fb07a0c5f76f434bb7c2e8d085e337b3.json' contains 20 records.\n",
      "File '1120fcc6b080e83411d01d5c555c9f7fd89dd1df.json' contains 20 records.\n",
      "File 'f3258994872faab126cfd1f53d8e074035968f02.json' contains 19 records.\n",
      "File 'c89f1229fe1b16eed9d33590e63aec4ef1774a6c.json' contains 20 records.\n",
      "File 'de4e6cdfbf70d3519d3936ff97e72b1f7efb538d.json' contains 20 records.\n",
      "File 'a881633893ead6c945d44c38723f4d6bee6b7f3e.json' contains 20 records.\n",
      "File 'd285594d7da2fe574a684d784afe197ed1892736.json' contains 19 records.\n",
      "File 'ba96a94312bed893d9a63cc55e71b8c17500b2bb.json' contains 20 records.\n",
      "File '7e917689f2e70d6be06df589ac3d97d5b2c65984.json' contains 20 records.\n",
      "File '8668f491aa5dde45ab6611452d412d9538a0abb5.json' contains 20 records.\n",
      "File 'db1151db513bf6fb37d87027d303c81b13ae121a.json' contains 19 records.\n",
      "File 'd6e2f7d32d69420ccf4b06b938e17ea273b3526c.json' contains 19 records.\n",
      "File '3cc9c1a789e9e6d0792c949255b97ee97d349565.json' contains 20 records.\n",
      "File '698c54229b83e530f1b9b8be159aba9ec005f07b.json' contains 20 records.\n",
      "File '25a64e3c159addfdd663bdc085cee9a04861844c.json' contains 20 records.\n",
      "File '8a4dcbaad7b224f517d91fe8c973809fbd762b34.json' contains 20 records.\n",
      "File 'c5f3d00cbab382b45a88a617239a769b83181601.json' contains 20 records.\n",
      "File '6aa212bd71bbd726c784d2cba1cc04a5e8ea246b.json' contains 20 records.\n",
      "File '720d55c7c7db8f8a3bc7381860ad48ecc7010f95.json' contains 20 records.\n",
      "File '5a5da676433d974dcb0429b33a73de1353ad724d.json' contains 20 records.\n",
      "File '6cfd448c6db29f08ba3137220416e95cbd7fe155.json' contains 20 records.\n",
      "File '76b7f959bbb05bf059606f5a95f38d6dc817233d.json' contains 20 records.\n"
     ]
    },
    {
     "name": "stderr",
     "output_type": "stream",
     "text": [
      "Processing files:  31%|████████████████████████████████████████▋                                                                                           | 308/1000 [00:02<00:05, 123.97file/s]"
     ]
    },
    {
     "name": "stdout",
     "output_type": "stream",
     "text": [
      "File '53c02cb9f7963722a52ca4ca78b47a92bc860222.json' contains 20 records.\n",
      "File '43cfac299d265c650c609b61eed1a26adce8a680.json' contains 19 records.\n",
      "File '1586e6b9c274f8139f2d8e87bd4d6625d6066149.json' contains 20 records.\n",
      "File '98c5f9d0c0f3f5bf6a75670bc23b6214a24b9220.json' contains 19 records.\n",
      "File '9ed304cd5ad413402850352ed73434f5390fd7ec.json' contains 19 records.\n",
      "File 'ab067e415ee51fe7cb8d13f2abc0cd45e11aaf70.json' contains 19 records.\n",
      "File '49fd15c042ce7dd688a7d6fe05d112185caec3e2.json' contains 20 records.\n",
      "File '6e3823505e58a9ebb96e3c0c95311325478209d3.json' contains 20 records.\n",
      "File '58e16380a4710c87797fc3def475e5d8af38ecdc.json' contains 20 records.\n",
      "File '832f606649a3fc7434758e104c051c36f0f2e6b5.json' contains 19 records.\n",
      "File 'a42ddcba9e49134c7c6b423ff4b28de0ba5d617e.json' contains 19 records.\n",
      "File '63cab65675e203edf9db64dcf88931fc3d69d88d.json' contains 20 records.\n",
      "File 'ca228c7a3b0b34f95b2c920dd44e9b88f5dfffce.json' contains 20 records.\n",
      "File '17d7010688a0aba15d56e43174131d20eda29219.json' contains 19 records.\n",
      "File 'ed12a88fc4883d1525c332aebc3bdff547d7d359.json' contains 20 records.\n",
      "File 'f8ffb082894322063b276c0100d0d06e354e713b.json' contains 20 records.\n",
      "File 'a9c31fd51fd22d6bb38927c196c8b3d67900a4db.json' contains 20 records.\n",
      "File '5f9c91a083a51070c36625bde517b2626ffe6cef.json' contains 20 records.\n",
      "File '23d0088fac8cc41cb013e29e93d3caefe00e1b8b.json' contains 20 records.\n",
      "File '4ff1a762bc94e3e83c79a77a302a7682280532fe.json' contains 20 records.\n",
      "File '30f1797a01eb538598266fd8e62cad35c3cf6574.json' contains 20 records.\n",
      "File '70900c3421a2c06f380c766e757fce941ba348ab.json' contains 20 records.\n",
      "File '15715bd6b4710adef7c7c7f767866d6bcea67eec.json' contains 20 records.\n",
      "File 'cf30839596be5b61e6c237f741a2daaccaf42eb7.json' contains 20 records.\n",
      "File '3ba3aec26bbd36716b5b6e7cd79226084e200ecb.json' contains 20 records.\n",
      "File 'cb436e6323945fb73aa40750d722bc566929e472.json' contains 20 records.\n"
     ]
    },
    {
     "name": "stderr",
     "output_type": "stream",
     "text": [
      "Processing files:  33%|████████████████████████████████████████████                                                                                        | 334/1000 [00:02<00:05, 124.26file/s]"
     ]
    },
    {
     "name": "stdout",
     "output_type": "stream",
     "text": [
      "File '41b3f0575bc7033e8080a319b6af13ef73a3c4cc.json' contains 20 records.\n",
      "File '5c3191e0f95745ca972f33c18fd88f5f125eedde.json' contains 20 records.\n",
      "File '17e8f1bdf52a5c5e9e88e8921767d027f3f89b4b.json' contains 20 records.\n",
      "File '6c0703406da35eb6793d9f30525c0d0755b22a5c.json' contains 20 records.\n",
      "File '237bc82ba35ee96baa8b409065243a5539c56419.json' contains 20 records.\n",
      "File '1d16a8fe707f3aa1432caf1fb0d0d078f284b379.json' contains 20 records.\n",
      "File '5907704e1ee68df435fea03ba241612bc84ae8a7.json' contains 20 records.\n",
      "File '408c25dce86daaf2bfb4079391f0305793fcbc66.json' contains 20 records.\n",
      "File 'ba33bf308a8b447fbe9dc0ffb605cac7b66557fc.json' contains 20 records.\n",
      "File 'df86edf938bc08d17673b9477432edea91a5bf9d.json' contains 20 records.\n",
      "File '680bbfa0f9db3c6fcf824b354da4aa22af782334.json' contains 20 records.\n",
      "File 'a79a97b49d43d161090914e973743fd83da42cd7.json' contains 19 records.\n",
      "File '8d16f4969da8730932c3ae5dda3ff235e2222146.json' contains 19 records.\n",
      "File 'd3ae18dd1c9a896262df3af94ce2d1d2579b099d.json' contains 20 records.\n",
      "File '3d88717115191ae681cf53f5c8352ad9aa5164f6.json' contains 20 records.\n",
      "File 'ed562853e7942a349fd991748ce55b4a0f0538fa.json' contains 20 records.\n",
      "File 'a4e9a6c8b34473b32a656a3cc03e159e72d6aeea.json' contains 18 records.\n",
      "File '2e0cfdbc625b5acbcc264edb804b629d6e2d5e9d.json' contains 20 records.\n",
      "File '93adb7b6ac023fd948791d5ae8674c2e959baa4a.json' contains 19 records.\n",
      "File 'a22db4083fe1a7bfd791218915d6199af59b1711.json' contains 19 records.\n",
      "File 'e089b12a239a1f7e87b2f402fb265dde4a3c4285.json' contains 20 records.\n",
      "File 'aef9ea461f046e34526c7f86d1927c1adf9ece60.json' contains 20 records.\n",
      "File '6cdd6ae342088a5bd5031de5c764c98279716c3b.json' contains 20 records.\n",
      "File '7bfd0cd54a14d40f01d9ac389d3bfce028267715.json' contains 20 records.\n",
      "File 'f8baffa9551dc3159efd84eb9297e8532fffd6a3.json' contains 20 records.\n",
      "File '240455684b7c9cb7b827d948105f9ce9fe1b6267.json' contains 19 records.\n"
     ]
    },
    {
     "name": "stderr",
     "output_type": "stream",
     "text": [
      "Processing files:  36%|███████████████████████████████████████████████▌                                                                                    | 360/1000 [00:02<00:05, 124.17file/s]"
     ]
    },
    {
     "name": "stdout",
     "output_type": "stream",
     "text": [
      "File '3a186d5b4c9a5fc2b553079d6768a7cc6c9b62ad.json' contains 19 records.\n",
      "File '8130c1dd1c22fad4503bae154837cd6b80c7abeb.json' contains 20 records.\n",
      "File '9a8fa3196c9bd1c3e67992bbaec89e824c0be4c8.json' contains 20 records.\n",
      "File '0ac16d6a27e80fd7cd45436ee2450166584dfa26.json' contains 20 records.\n",
      "File '036524c8b5e2d836dd4cac37c816b7d015f4ca20.json' contains 20 records.\n",
      "File '7a9066592e6678c7cc29946d11ef42756eb40e9b.json' contains 19 records.\n",
      "File '1f68fcc17b4cd3456cddbf2b69ebf4c20b8c4b49.json' contains 20 records.\n",
      "File '3ed025b5ae9ed48fe0635095658fab38043653a8.json' contains 19 records.\n",
      "File 'b50defb1877e6c77595294bd9a622d430792ede7.json' contains 20 records.\n",
      "File '697a3c5ae5ad2680cdb78013ecfac5500c2897d0.json' contains 20 records.\n",
      "File 'e1f4809da8a8a86371f2690a910f19b954ce90b5.json' contains 20 records.\n",
      "File '208cd39a3319ad481628aa3cde5f5d457f206576.json' contains 20 records.\n",
      "File '4eefa9e31d7f36007ade03122062e4f4530765de.json' contains 20 records.\n",
      "File '2a35bd57dfb171a5367777923d42882879e1fe59.json' contains 20 records.\n",
      "File '293f4ed8815593ae963e4872abc4479606a4c81b.json' contains 19 records.\n",
      "File '139905f6e0380f46e6ed32f0a8c01103045fa98e.json' contains 20 records.\n",
      "File '1061480cb37666b39e425a3d9873f5ee86cf2e25.json' contains 20 records.\n",
      "File 'd8f193cbf1de2009a0926f0f9d73655606444c0d.json' contains 20 records.\n",
      "File 'c98280b0e62c2b4c6abc33af287bfd6019f7d082.json' contains 20 records.\n",
      "File '36d45656a41326b4d31298a2800b59a322f241b0.json' contains 20 records.\n",
      "File '1761d31c680d159a177180b673db8e84777cdbe6.json' contains 20 records.\n",
      "File '74568428e939ff3ef58cecff6dda46169fe01bb4.json' contains 20 records.\n",
      "File '862e2494b918cf7012fa66cf2a8b3ecab1d021d2.json' contains 20 records.\n",
      "File 'dc2c8d73d3dcd73a55acae51444fd221d536466e.json' contains 20 records.\n",
      "File '58e990f7cb1ae0000d2efa0d62ce1e253bbbb5a1.json' contains 19 records.\n",
      "File '477fd33f317ad0833a4c0a168654e0e114cf98ae.json' contains 20 records.\n"
     ]
    },
    {
     "name": "stderr",
     "output_type": "stream",
     "text": [
      "Processing files:  39%|██████████████████████████████████████████████████▉                                                                                 | 386/1000 [00:03<00:05, 121.68file/s]"
     ]
    },
    {
     "name": "stdout",
     "output_type": "stream",
     "text": [
      "File 'b78bcb57efdced619e499cd9b8480f3e3987b05d.json' contains 20 records.\n",
      "File '8c3e21822afd78db2b57bfa7da6c2caa4cc2ae5d.json' contains 20 records.\n",
      "File '29b4ab9f77820bb685290aed0a2991c00978e9b1.json' contains 20 records.\n",
      "File 'ad3c3ce6b191c74ea162b740d18f3a37ce49d22a.json' contains 20 records.\n",
      "File '403cfa79474fb9815b9512900c9cda1accd90fd2.json' contains 20 records.\n",
      "File 'c00bf16cda4b3c9bcad0cb88a3bbdc7429d4f32a.json' contains 20 records.\n",
      "File '43cfba6264653e950609a2845032578341b2eea7.json' contains 20 records.\n",
      "File 'a50c7aa588eb354f4c5d6f86b93d4c0d9d89a995.json' contains 19 records.\n",
      "File 'e5f23bf3d94c6ada6a6223f194474b31c7314dd4.json' contains 19 records.\n",
      "File 'c7c86a5f1be3f236098e6d2631f9f8f0c3d6dda9.json' contains 20 records.\n",
      "File 'a5fb40fcd4b3e19f03e465296decbf5b921f74d3.json' contains 20 records.\n",
      "File '88c2163f231752a57eb946dbfe3abc0d741a14b0.json' contains 19 records.\n",
      "File 'a0b38c9de2996f12586bd8bb57aa72003bda085a.json' contains 19 records.\n",
      "File '7e7c7892e099c5e98029df409c97b86e02598e1f.json' contains 20 records.\n",
      "File 'ae8343195298dc03f0dcc5a0efba9c78b1aa4a3b.json' contains 20 records.\n",
      "File 'd828dac6f8d43fb46543782dbe27547f2f0867cd.json' contains 20 records.\n",
      "File 'e3bb85bbf101926a44f3e429983e340ca59057d8.json' contains 20 records.\n",
      "File '8ba29dd3b33ecfc784acd5426f02d8bd30ba7f5b.json' contains 20 records.\n",
      "File '4ef5d7e99d064b2d55d09c42588d6931adb5f44a.json' contains 20 records.\n",
      "File '0537a086e041c34f36784b71448960f608f61ca6.json' contains 20 records.\n",
      "File '7dd03787504e643b6bc14da0c012b2a10ca3b217.json' contains 20 records.\n",
      "File 'b72dcde396d30828842faedced874c3adf34ea1f.json' contains 20 records.\n",
      "File 'eabc20910bb046780c3d1dfa8465922ae1013900.json' contains 20 records.\n",
      "File 'd59197171da7c3843bbbede2aee4a87eb3f54cbb.json' contains 20 records.\n",
      "File '49aea06365d58425392968364c67d2a4ca99d6d6.json' contains 20 records.\n",
      "File '51ce80383a1fe9aea62040291d32c850e283c004.json' contains 19 records.\n"
     ]
    },
    {
     "name": "stderr",
     "output_type": "stream",
     "text": [
      "Processing files:  41%|██████████████████████████████████████████████████████▍                                                                             | 412/1000 [00:03<00:04, 122.96file/s]"
     ]
    },
    {
     "name": "stdout",
     "output_type": "stream",
     "text": [
      "File '8a80863e7d43f0600abd1afb5f69e372dba69e13.json' contains 20 records.\n",
      "File 'a87a12aaacc2a564b3033b8e7ad228bc5fe15e09.json' contains 20 records.\n",
      "File '8bdd5a8ca9d27aa178a479ffcdb760194865b126.json' contains 20 records.\n",
      "File 'b05931b666a3d17fe9dc02f6aa20d0030ba90209.json' contains 20 records.\n",
      "File 'c6b4de9effbf6a9bffbb2a8a9a21f7d77e245403.json' contains 20 records.\n",
      "File '77bdc3550e0f790501d59455500650af96c9c4db.json' contains 20 records.\n",
      "File '7dc772e6856bf1e81557b47d9475dc3230456d0a.json' contains 20 records.\n",
      "File 'c1ab03645b2342cc8353ce8338a1793361fa9067.json' contains 20 records.\n",
      "File '0c7bbbcd5205ea49dada4c50e8be01dd5a6d9342.json' contains 20 records.\n",
      "File 'f60cbb6ad1dad566c617fff0f2570dfb8d92513d.json' contains 20 records.\n",
      "File 'd91b04dfcdea8d0d5e8d38957c035083286cbca5.json' contains 20 records.\n",
      "File 'a9f0cdcf1bb63276b14db20c5442755ca0633706.json' contains 20 records.\n",
      "File '899dc9812c8211e7b646137dcd29395a23aca1da.json' contains 19 records.\n",
      "File 'fe5b07fa15f93ba04f97e1f14d6e52732f01d296.json' contains 20 records.\n",
      "File '26bcb5f317ddd3bf2b72ec09640cea0f091d87d5.json' contains 20 records.\n",
      "File '743ad62b472cb2e1e82a7a6f6e3366274bdcdaf9.json' contains 20 records.\n",
      "File 'f876c9220508a8bad188c6a8691902a15e9b2dc1.json' contains 20 records.\n",
      "File 'c2929dcfd530d5d350fcdaf7530656426a3ea629.json' contains 20 records.\n",
      "File 'd7f0c336bda06442ffabe21978df2af997eff83c.json' contains 20 records.\n",
      "File 'bf7fc6a82add486337e333fd06117c4a333372be.json' contains 20 records.\n",
      "File '94d00ec354fff2ad67b5befb82c887f9521f2697.json' contains 20 records.\n",
      "File 'fa15810af1c599852a7026fecf451a0a07b6dd6c.json' contains 20 records.\n",
      "File 'aa6fcba2c75cd88c4f3b110ba661f391a0802c04.json' contains 19 records.\n",
      "File '1f7676dfc92ac817d8f52737da21474c1d0fbde3.json' contains 20 records.\n",
      "File '82c675296753536f200a3495ac1d546a995497bc.json' contains 20 records.\n",
      "File '00ec34a71628253d63efa78fa263b9c79068fd69.json' contains 20 records.\n"
     ]
    },
    {
     "name": "stderr",
     "output_type": "stream",
     "text": [
      "Processing files:  44%|█████████████████████████████████████████████████████████▊                                                                          | 438/1000 [00:03<00:04, 121.40file/s]"
     ]
    },
    {
     "name": "stdout",
     "output_type": "stream",
     "text": [
      "File '34e009254d72228f2b8b3b08764654a6c45d6ef7.json' contains 20 records.\n",
      "File '80e9c376a8cb9597009258f93c892fd22c974e89.json' contains 20 records.\n",
      "File 'e9a49b92da582c4fffc670de05778230a8439062.json' contains 20 records.\n",
      "File '4d420c1b23318a14c1431d30f1557985f19e4980.json' contains 20 records.\n",
      "File '2b9444799ccd7e276f5b3a382402a02170b8b8e0.json' contains 20 records.\n",
      "File '38c61b2a1a406e4be3b2f4fbe1e6e55057f7a926.json' contains 20 records.\n",
      "File '84dac5843acb55f8839fbd9e5aae88d17e45a2e5.json' contains 19 records.\n",
      "File '8e7c7528d34de6de8ed301392da443e8f08f8a00.json' contains 20 records.\n",
      "File 'c418678f721b78aafd2ff6d40ea51cdeef467827.json' contains 20 records.\n",
      "File 'd7bc8a67f1ec69a6256b5e05b77bbf24b9450e0b.json' contains 20 records.\n",
      "File '7265d20cfc3cd14eefd7c273eddd72c42c02409c.json' contains 20 records.\n",
      "File 'd4b8f64c6392fcabeab02124c9947faf23546184.json' contains 19 records.\n",
      "File '1a03bd2e2ff64da174c6dc78ba3403215d98f427.json' contains 20 records.\n",
      "File '8299a96d170720f8222eb3d960ff22b2add8cfa6.json' contains 20 records.\n",
      "File 'ebf4af58b77a29be563a621d619a0dc4ed067b50.json' contains 20 records.\n",
      "File '1f3109b5c8d4ddf178a81f9201006cfaf5111080.json' contains 20 records.\n",
      "File 'd73d7741ebc3e850b8ba6b6c808b9c96c4c3626f.json' contains 20 records.\n",
      "File 'a4778ac6257ac77f2b5f5f5809e8f435d50b6928.json' contains 20 records.\n",
      "File '0c6030550f2a0275359e26a14d87a41373b6cb1f.json' contains 20 records.\n",
      "File '5b865b0b3d1e69826b310b51c3f580dbbaac69fd.json' contains 20 records.\n",
      "File '5e632527ebab129b61233cd18662d07d3e4fd3d4.json' contains 20 records.\n",
      "File '745237cc001a7f6fe1a0a932e95506d7fc1fd16e.json' contains 20 records.\n",
      "File '18143981c4e205356f7c068281ddb31dcbed2758.json' contains 19 records.\n",
      "File '797cda6fcb4fcd28149a379c0680989246ff0fe5.json' contains 20 records.\n",
      "File '621c5e1fcfbeae712687a6f8b98c560cc658c7d2.json' contains 20 records.\n",
      "File '90c1671e107ee11f2fd425aa92b295f9bfe57362.json' contains 20 records.\n"
     ]
    },
    {
     "name": "stderr",
     "output_type": "stream",
     "text": [
      "Processing files:  46%|█████████████████████████████████████████████████████████████▏                                                                      | 464/1000 [00:03<00:04, 120.08file/s]"
     ]
    },
    {
     "name": "stdout",
     "output_type": "stream",
     "text": [
      "File '18acbc03be98b93c37adf6382e1d0bea5062cf43.json' contains 20 records.\n",
      "File '1d146a37a5f2b86df0859b1562d1de74d4741e34.json' contains 19 records.\n",
      "File 'd08c6c75b8911ea04a265d11cfd15c567491af79.json' contains 19 records.\n",
      "File '2fa75ecf5d389924b81aefc7f09c4771db9a5da4.json' contains 20 records.\n",
      "File '315f7b38ad21619e18514d4a739a0f2b04c169b0.json' contains 19 records.\n",
      "File '3174af3fc7a69a8d78abe7e20a4be0ff64bfdb31.json' contains 20 records.\n",
      "File 'fc8b096d135ec3e70262adc5e07fb2d5497e8558.json' contains 20 records.\n",
      "File 'b4e8588fa244eb45c3c2dc2d1f5a0e137242a2ae.json' contains 20 records.\n",
      "File '66d8172f1b0c26d2d07e3ebbbe3e03bbce64a08b.json' contains 20 records.\n",
      "File 'e44074a37b7edcdcedf4112efff229044664ae41.json' contains 18 records.\n",
      "File 'f27fa49efee6508f09459bf482a3ceb79114bcd3.json' contains 19 records.\n",
      "File '538cd3ad1d5c4bbc5373ef6ed797d464289fa3c8.json' contains 20 records.\n",
      "File '6a265c61fb1dc6bb8354e2a289d42d55e13dd9ef.json' contains 20 records.\n",
      "File 'feac1c0ec997422e6d1f1a1bf92e716ce6110811.json' contains 20 records.\n",
      "File '384a4043ac8a931ff4ad3927c6f8a5b1019ebc26.json' contains 20 records.\n",
      "File '45beb9b6dcbecf21bbdb98e8aa1509a8892946ad.json' contains 19 records.\n",
      "File '401f6e77e460b9d6fbb756cb8bbe096df4b23ee3.json' contains 20 records.\n",
      "File 'a40f58b502af7e907a824f3785bf76d2a36409b4.json' contains 20 records.\n",
      "File 'dde8d05850fdbace4cdff808146afde6a35f13b3.json' contains 20 records.\n",
      "File 'd78e6a8fa3d102612fe6b35f836e22eeb55de233.json' contains 20 records.\n",
      "File 'd1aa6beaf859ee12de0391b9e2a0c049e06bba1d.json' contains 19 records.\n",
      "File '33c9d5e7f27492c650424aa244c4021fcb9aaee4.json' contains 20 records.\n",
      "File '49f1043bf48f812825f7b38777514b1f2042b3f5.json' contains 20 records.\n",
      "File 'd92f7db47dd12a1d9bb5045f3f8af04aa93725e4.json' contains 20 records.\n",
      "File '8bfab695710f4f5f924fd738a5b62f40ff5b25d0.json' contains 20 records.\n"
     ]
    },
    {
     "name": "stderr",
     "output_type": "stream",
     "text": [
      "Processing files:  48%|██████████████████████████████████████████████████████████████▉                                                                     | 477/1000 [00:03<00:04, 119.54file/s]"
     ]
    },
    {
     "name": "stdout",
     "output_type": "stream",
     "text": [
      "File '9ae9caad5e0becaa459726453a2bf118eb97d8e7.json' contains 19 records.\n",
      "File 'a57dc7b0f6bf6afe779de3909dfe7ce3e79d2729.json' contains 20 records.\n",
      "File '1a2a2cd058055e50ac16894b086e6f98842c32aa.json' contains 20 records.\n",
      "File '6fc8a498d2623945056699f8ef65a505b06ae76e.json' contains 20 records.\n",
      "File 'a3ff3682114a20a3200cbde9f178a03ad97d68ab.json' contains 20 records.\n",
      "File '027fb1ea1bc58b8447f19ca1953f63d21a455970.json' contains 20 records.\n",
      "File '169b7a3352cdbf898f6b26d408698741292ebe25.json' contains 20 records.\n",
      "File '0d1ea3e2031781aaa2e2d4e33e01d9a928788975.json' contains 20 records.\n",
      "File 'f6ae4b4cf0c515ad725814c9ff9e993d8ac50cd3.json' contains 20 records.\n",
      "File '7fe4c2db219112eb03de331fc3d1bdf2ca902a93.json' contains 20 records.\n",
      "File 'd9e00a0ffb46fff06724e6f21614a28dc0a9d736.json' contains 19 records.\n",
      "File '5a4f49b7b4ff38a34880fb681f18defe15635949.json' contains 20 records.\n",
      "File '4c3cb4789ba99f85bc6deb1d090ef6a0f52f62cb.json' contains 19 records.\n",
      "File '14954082b4656fd84da4e77076574a2486b2a9b1.json' contains 20 records.\n",
      "File '4f845fda4eecfdc8a7d9dc56adaf7d7f1a9e9dae.json' contains 20 records.\n",
      "File '0a08b321a05464bb175f78ea8e225f1885c1eb72.json' contains 19 records.\n",
      "File '16cfd7fc8d32294374ec53b30e7fb7374069a28c.json' contains 20 records.\n",
      "File '83ecd24ed9553fa82d7214e6a75ddd340d732d4a.json' contains 20 records.\n",
      "File '050b8eedbe274b70b06fdc72f532ed95bbe97d99.json' contains 20 records.\n",
      "File '67ee227f241b8e2377d50d9de5ed7331932b189b.json' contains 20 records.\n",
      "File 'bdf1082c721874198b9dae88357201593393b920.json' contains 20 records.\n",
      "File '87d1d3d1d214b7714216d23442bc75b35daee3e6.json' contains 20 records.\n",
      "File 'f53fea6cd42916223542121f0a0fcc2a29ea40c2.json' contains 19 records.\n",
      "File '321cb600e102abba20bea9f08d16b42ff854fa75.json' contains 20 records.\n",
      "File '37f89d150a53f1986664cc33869cdc0c73944b39.json' contains 20 records.\n",
      "File 'c891083ee6293d1e24fd8f0decd0e0985d63b752.json' contains 19 records.\n"
     ]
    },
    {
     "name": "stderr",
     "output_type": "stream",
     "text": [
      "Processing files:  50%|██████████████████████████████████████████████████████████████████▍                                                                 | 503/1000 [00:04<00:04, 122.56file/s]"
     ]
    },
    {
     "name": "stdout",
     "output_type": "stream",
     "text": [
      "File '5820b9adb3a88c63ca18d39e396aeb776714962a.json' contains 19 records.\n",
      "File '0b80a9722583d36880cf699d752a448ddd87d6ce.json' contains 19 records.\n",
      "File '73e582d4ef6ca25e9cbe4ef186848b9775c8ddfa.json' contains 19 records.\n",
      "File 'f0db0fd7c6e282c110618a654f9ea2f48dbad644.json' contains 20 records.\n",
      "File '0e9fd355f5bc2b186546d37f8bde91ada826e9a9.json' contains 19 records.\n",
      "File 'e18c3d521af0e1e1f3058213cbb4f5dbea32c7bd.json' contains 20 records.\n",
      "File 'aff73ba0c80999dba296bd926948a0d25c35c864.json' contains 20 records.\n",
      "File '54774161bf444553de0e8a570c029b8764249403.json' contains 20 records.\n",
      "File '598a9a2ce802c168c46e40e8b6bd2171ade0c8c4.json' contains 20 records.\n",
      "File '9ee7f02464efe4a8181723767474240c10bb7138.json' contains 20 records.\n",
      "File '9fa36b4a77e1277541c5148e9317b6a3fdff2a74.json' contains 20 records.\n",
      "File 'ee876ffd5ab6a7b765926fecfc3180891274eb27.json' contains 20 records.\n",
      "File '72e40a41803dbe72e425ec8f6723d0b68f0cc334.json' contains 20 records.\n",
      "File 'b5af55951b3bfd708e15f9277b175de09096729b.json' contains 20 records.\n",
      "File '66ca9d523d9eeed5ff54ee4cb623133cd94963c0.json' contains 20 records.\n",
      "File '80db162ee25b67334402505fee540858d75e4b34.json' contains 20 records.\n",
      "File '16ea025686dc5b0e7a3e3659913aff7b58b3d10a.json' contains 20 records.\n",
      "File 'c0e9ae120be20ce925b34f7af82eebbc3602e85f.json' contains 20 records.\n",
      "File 'f79920aed12a155a06fe8877118e564bc7a956c0.json' contains 20 records.\n",
      "File '75baa1d15641d3920b8d00b7f776cf5829a1f96f.json' contains 20 records.\n",
      "File '7d894ca56f0de2536ddcccced385bc059fbd6982.json' contains 20 records.\n",
      "File 'a65895c78f72dca84db243f62111817cfa7624da.json' contains 20 records.\n",
      "File 'c5bbcbe6421d9ff7a83c6051181a76f9f8063556.json' contains 20 records.\n",
      "File 'a82b9b567d65f9ed3aebeeee1b63f8e81a363211.json' contains 19 records.\n",
      "File 'bca5c62ae5f0b09cb83f774f92304082a84f3964.json' contains 19 records.\n",
      "File '14aee9e0f478cc7240bebaad7436631a68f36bec.json' contains 20 records.\n"
     ]
    },
    {
     "name": "stderr",
     "output_type": "stream",
     "text": [
      "Processing files:  53%|█████████████████████████████████████████████████████████████████████▊                                                              | 529/1000 [00:04<00:03, 119.86file/s]"
     ]
    },
    {
     "name": "stdout",
     "output_type": "stream",
     "text": [
      "File '35cb34444e7a1702096abff0bba60a0fa1a6c0dc.json' contains 19 records.\n",
      "File '1a8f0082418984e4313700a1fe31d43b8e27a035.json' contains 20 records.\n",
      "File '1c7dee72982eccf99455ff65c31bb2d06fa1a2a0.json' contains 20 records.\n",
      "File 'd07f4b307ee0ac89cda282a0ffa8214a143723d9.json' contains 20 records.\n",
      "File '37fcee16dac960509e5922a68ae28ca3ed9841db.json' contains 20 records.\n",
      "File '5ede282475dc61a1e9ef561d12383e4c10ace23b.json' contains 20 records.\n",
      "File 'ea87928d9240244a7adf3c289c73f2c20ea06b8e.json' contains 20 records.\n",
      "File 'ae1aef7a064ae61ea15f266339bd8e61e371db4b.json' contains 20 records.\n",
      "File '46133ee5bc2fe9c9ca07962639fe3caeaef5b6fa.json' contains 19 records.\n",
      "File 'e63a7d46ee23033667727023b18fab7137ce59e7.json' contains 20 records.\n",
      "File '1bc0082dae084a43e71a4a59c2459c9b77daa989.json' contains 20 records.\n",
      "File '52d54815307a264a7be75489d6ad1df660590a9a.json' contains 20 records.\n",
      "File '784e586a60566f553a2a037e212b1053b331319f.json' contains 19 records.\n",
      "File '295ad76db29ffc04835a6a9bc97273fbbc5fdb22.json' contains 20 records.\n",
      "File '336f56138209402d7955511ceec968305073d61d.json' contains 20 records.\n",
      "File 'de18aafeb9ab5800fe40eb6ff41dda95d984f893.json' contains 20 records.\n",
      "File 'c9974a545dcd24de335648d1880860d94db5237b.json' contains 20 records.\n",
      "File 'd81471624170e396d6d8a974b872f68c32788abd.json' contains 20 records.\n",
      "File '70afdf2da65e2d486611f27f931086c944d63944.json' contains 20 records.\n",
      "File 'c495dde96112c7566ce7ddb093d426499314515f.json' contains 20 records.\n",
      "File '8b03d508dfad723e6a9f2f5c00ae60e4d74fdb58.json' contains 20 records.\n",
      "File 'eb4caf3f3bcbf6fdc57d93fc4ca9fb1bb87e12f8.json' contains 20 records.\n",
      "File 'bbf142e4db8543f1ab0a82c9696ccf269a500c2e.json' contains 19 records.\n"
     ]
    },
    {
     "name": "stderr",
     "output_type": "stream",
     "text": [
      "Processing files:  55%|█████████████████████████████████████████████████████████████████████████▏                                                          | 554/1000 [00:04<00:04, 105.12file/s]"
     ]
    },
    {
     "name": "stdout",
     "output_type": "stream",
     "text": [
      "File 'da43dc3ad50146727c432600a3ff5a455f014aa0.json' contains 20 records.\n",
      "File '599485aa628ea819888cc7b6615780f29e50c15e.json' contains 19 records.\n",
      "File '925bd364bc9f9099714b17784c8505a612dc6250.json' contains 19 records.\n",
      "File '9c2cc045014fb3182b4aff47d4e00e964236dc14.json' contains 20 records.\n",
      "File 'a13c4c3b7012084c2adee83563a206c934fffefd.json' contains 20 records.\n",
      "File 'e9a9b6ca47af63fbc4f946dbfd17ceada7030e10.json' contains 19 records.\n",
      "File '15864cc06cc2d55ceac39d72cf8a8fb5d572c973.json' contains 20 records.\n",
      "File '5161f3be866c95da6c022cb28ff69e4f28900d79.json' contains 20 records.\n",
      "File '1b02f5df89934d9aababb29902d7c13a41c8b93c.json' contains 20 records.\n",
      "File '869aa069eddb96b4fcf30a17c1ef50750fb6b4ad.json' contains 20 records.\n",
      "File 'df6864444dde2ff67d7d0c049f10375c88727dd4.json' contains 20 records.\n",
      "File 'f2734708aa74900976d4bfc4a89740fddfbf2f54.json' contains 19 records.\n",
      "File '363565897a6ceecc3fc78b08e8fabe190330fa7d.json' contains 20 records.\n",
      "File '7807e964e7aff968ae56a4dd1b11ca4239948f6a.json' contains 20 records.\n",
      "File '61cd93b5866c122fde2b0b10fbecd2c81df6c681.json' contains 20 records.\n",
      "File 'fb03854899cd9471afe0c3b498321bef3e8a7dd6.json' contains 20 records.\n",
      "File '8c2a008e3de44025866185c3b5cf9f42d7f0e6c5.json' contains 20 records.\n",
      "File '025d3c15ab049722bbca4b6ca47127b64db7c572.json' contains 19 records.\n",
      "File '7e8a3cee5bd0f29860827dc1fd73f700bd231d3b.json' contains 20 records.\n",
      "File '5f91ba2b6677dd3d8592e334d02081e37bbbc41b.json' contains 20 records.\n"
     ]
    },
    {
     "name": "stderr",
     "output_type": "stream",
     "text": [
      "Processing files:  58%|████████████████████████████████████████████████████████████████████████████▌                                                        | 576/1000 [00:04<00:04, 99.81file/s]"
     ]
    },
    {
     "name": "stdout",
     "output_type": "stream",
     "text": [
      "File '5c05f0b1a141087f6934c95ed9528dc69d663a58.json' contains 20 records.\n",
      "File 'ac5d9f32a80c632288c17d0e867688e2b2f52d70.json' contains 20 records.\n",
      "File '92a7a71f628bc720891fdd6f3308867f2db869cd.json' contains 19 records.\n",
      "File '3ca860a131b41e370796098199ef761a3d10918f.json' contains 19 records.\n",
      "File '970bd1a5d8cd2143fa2e9a7e89694526757e16dc.json' contains 20 records.\n",
      "File 'a0ad32e4829009e5cfa2623c67363314457aa8c0.json' contains 20 records.\n",
      "File '1ed414c39a90d7f13c1a78786740826f65817670.json' contains 20 records.\n",
      "File 'bece677f59cb4e988dc44af5ed80e9373bc0cba1.json' contains 20 records.\n",
      "File 'e2838c27add9d68af0276b9320ee0f33486107fd.json' contains 20 records.\n",
      "File 'b34630d62a4136e5f40f1c686f543fa87c5f4b54.json' contains 20 records.\n",
      "File '3651a8c5359481a7a82b4407a268ebc032ff6e7c.json' contains 20 records.\n",
      "File 'd1fa1a7b63cd443d100397e5392a7b8f9e6df5e9.json' contains 20 records.\n",
      "File '2bb9a66f72ac221dc4103a14ecec4ae666cee533.json' contains 20 records.\n",
      "File '979b57ff28477aaea52ba6e2aa238c109e57253d.json' contains 20 records.\n",
      "File 'c13c5bffd9fcf352a877d3a6ccfcc9f97bdae8eb.json' contains 19 records.\n",
      "File '707cc13e99cf7ee15a2b703dd4d1bd8eb0881cc4.json' contains 20 records.\n",
      "File '658a6ad99cd43283ff5dafbb59f0730bcaa20e2c.json' contains 20 records.\n",
      "File '8fef88d5f0db93e5f702cff6cf575339b23a67c7.json' contains 20 records.\n",
      "File 'fd8fa5cada24531f9c68c9cc0ce922c5b4a1b9ac.json' contains 20 records.\n",
      "File '608fcdc9eee7acd3730b46045a1d056a7e6b702c.json' contains 20 records.\n"
     ]
    },
    {
     "name": "stderr",
     "output_type": "stream",
     "text": [
      "Processing files:  60%|███████████████████████████████████████████████████████████████████████████████▌                                                     | 598/1000 [00:05<00:04, 98.28file/s]"
     ]
    },
    {
     "name": "stdout",
     "output_type": "stream",
     "text": [
      "File 'd5921f24b0d1b0c7d3c6ae77868d08af5970de1c.json' contains 20 records.\n",
      "File 'db05508f40bc4a9904f9870841ccb6a5f936d8d1.json' contains 20 records.\n",
      "File 'e27448d8e4bc8784dab5f3f7fcd5ff32d7dd9274.json' contains 20 records.\n",
      "File 'bcebc6196a6a427e57475332d1c15fae8b55d17a.json' contains 20 records.\n",
      "File '7fbee503cbd1f33df05788148b2c9c0806c7587d.json' contains 20 records.\n",
      "File '55877ae51ec6b63044685a2630dbbc6a5fe838f4.json' contains 20 records.\n",
      "File 'a843a19dd096aebe5b1d44bec6e2785179c4d480.json' contains 20 records.\n",
      "File '084dbb243c207e5c8afd17395571eef5c0d27dae.json' contains 20 records.\n",
      "File '79bbd70ca682c05f88f4143aa98894be5ab4490e.json' contains 20 records.\n",
      "File 'fab075835f00f906631a94a0e0f92b6da768a843.json' contains 20 records.\n",
      "File '0e826fb329831edd27302bd9e2ead1a6286df495.json' contains 20 records.\n",
      "File 'e394667bb9ee4832ec3e5763479361ac65e68209.json' contains 20 records.\n",
      "File 'b04a4aa0787847bbf34efa46c2b7d077af962ecc.json' contains 20 records.\n",
      "File '71f62f22a639e673638c18ebdc9a0edd6b305785.json' contains 19 records.\n",
      "File '239eb8638be1754a1114371aa98c7cf885434b9e.json' contains 19 records.\n",
      "File '4434f90c13b19f46d5169679aeae7cc3977ecbcb.json' contains 20 records.\n",
      "File 'bafbbae686a7bb45b51b1a2f0339f14a880db4ba.json' contains 19 records.\n",
      "File 'a6ba0d1b8b4aa0c79c9f1434d35cdaf059bd5de6.json' contains 20 records.\n",
      "File 'a22fb79ff60b0f007294244ec6b96bf213b6a493.json' contains 20 records.\n",
      "File 'f017e9db4a5a4beee160165a06b6e86d56dec1f0.json' contains 20 records.\n",
      "File '17c17e540a2ed8d10ae2e453fbd81d2a048d5f6f.json' contains 19 records.\n"
     ]
    },
    {
     "name": "stderr",
     "output_type": "stream",
     "text": [
      "Processing files:  62%|█████████████████████████████████████████████████████████████████████████████████▉                                                  | 621/1000 [00:05<00:03, 106.16file/s]"
     ]
    },
    {
     "name": "stdout",
     "output_type": "stream",
     "text": [
      "File 'e04a63372573c71a06178c9fc3c52b6431b733ca.json' contains 20 records.\n",
      "File 'c584f830f8a3ade2cf0c21dd6d84d6f6c9641836.json' contains 20 records.\n",
      "File 'baa5b57992cfebd30436f2d590adaee27f1df7a6.json' contains 19 records.\n",
      "File '10bd6281f71b4db9d7e86413f307fdd6f658cab6.json' contains 19 records.\n",
      "File '64a85a56f0a9674a68f8a37de7dc9665d1d85e42.json' contains 20 records.\n",
      "File 'ebefc4a87cf3ddbf3eed9b1596b2dd2f4671bdf2.json' contains 20 records.\n",
      "File '03c87beecd99c8d4a3621b02c308b87688a2e6f9.json' contains 20 records.\n",
      "File '6e87fffeb6ec9c62a3cb967735ac2f782e96cb0c.json' contains 19 records.\n",
      "File '87de5690fbfadac52b0aeb697a43ad60b2c054cc.json' contains 20 records.\n",
      "File '1b731e4d4a316ff98fdc69188dbfbfc0e7eaa136.json' contains 20 records.\n",
      "File '30cda005100ed06a166cca4ea22cc7f97736a26b.json' contains 20 records.\n",
      "File '31409ed4e55f550d1c6d1ac5403933082e914dd4.json' contains 20 records.\n",
      "File 'ed791dca4d023bf3e500484b0d43307828941764.json' contains 20 records.\n",
      "File '3ddaceba2bb4459bbefdbb064bc3f6fc477dfed3.json' contains 20 records.\n",
      "File '68b96979ff862444b11a9d7e8a09276e12ff7e8d.json' contains 20 records.\n",
      "File '0f27347ae3e8e83bb816c2afc30b349dbc4dd054.json' contains 20 records.\n",
      "File '772279889ee7eca988c0b0f5941caa9fcda13f5e.json' contains 20 records.\n",
      "File '68ec5d4db6182fb457c8baf8725ea1259cc8ca7f.json' contains 20 records.\n",
      "File 'ab6e7541c49e1931aa73d2713d21a2fccaeed5b0.json' contains 20 records.\n",
      "File '804dad906a2d593c3de102530fe4e14772f75dba.json' contains 20 records.\n",
      "File '872bdd7927ba6014ea9a4b0bef16417b5ff9fbdf.json' contains 20 records.\n",
      "File 'bc8d5a1c00534735f40cdba88dc928d8e0567149.json' contains 19 records.\n",
      "File '3be8ba241c19e6b3b9d9d41e3e5bfed71d134b9d.json' contains 20 records.\n",
      "File '7a8f16cf381aacf9009002a32d5075b7b9973dd3.json' contains 20 records.\n",
      "File '4ac62a04664c7e8b1be556e691813289f07688e2.json' contains 19 records.\n"
     ]
    },
    {
     "name": "stderr",
     "output_type": "stream",
     "text": [
      "Processing files:  65%|█████████████████████████████████████████████████████████████████████████████████████▍                                              | 647/1000 [00:05<00:03, 115.92file/s]"
     ]
    },
    {
     "name": "stdout",
     "output_type": "stream",
     "text": [
      "File 'bbf1a68353cc65649b7cb57b3922f2b6a194f757.json' contains 20 records.\n",
      "File '2b15a3b308720fccd9e4d6580378e83543c66228.json' contains 20 records.\n",
      "File 'deceb41f01a096bed9caf25a4e429b611ba74230.json' contains 20 records.\n",
      "File 'bb216c86782b7e4f75a5a3094ae4fb82d744ea88.json' contains 20 records.\n",
      "File '01e7cc671cdb6ada0fa8f5923d29f218c02da1c6.json' contains 20 records.\n",
      "File '96dab7b2169d72950ec8d00b341c28d888379a0e.json' contains 20 records.\n",
      "File 'a29201ad9dc81e98cb6ec104f5b89eed5d697130.json' contains 19 records.\n",
      "File 'c30fcea9cf580f5f63b78835a2c027363b446d8c.json' contains 20 records.\n",
      "File '6809f4d216e0e6b66fcbdbf533d7774f6c8d11ba.json' contains 20 records.\n",
      "File '33573a4c1155a535eb3d02677980862268b60c8d.json' contains 20 records.\n",
      "File 'ae0ecba3c0434a62ee37e001628f2ec3b37f1c70.json' contains 20 records.\n",
      "File '1e6cd383c9c4c80067065d43966f51e3fca53443.json' contains 20 records.\n",
      "File '6825576e2b5986eb3a982c5bdfbb4e976534dfa1.json' contains 20 records.\n",
      "File '0a8cca28cb73b7e970dcae2fe2d0766b1299b3c5.json' contains 20 records.\n",
      "File 'f5d0e265f58661a8f92aae01941b902c46028bf5.json' contains 18 records.\n",
      "File '4608fff23939b2819a25e48875a2bf1e7a9c0f7f.json' contains 19 records.\n",
      "File '37c9b64b706499edaeab722e75372e86f3e8a810.json' contains 20 records.\n",
      "File 'ac6ffed792c40e3b9ad443614fe7aace3311cc3f.json' contains 19 records.\n",
      "File '8fc00c015bbc55415ded67870d4a09da74ca0af2.json' contains 20 records.\n",
      "File 'f3a9b322b3aae4ab99ce369efd00b17ee3a188b3.json' contains 20 records.\n",
      "File 'dd0637fb2aca6709b34a532a5479b561915c4e70.json' contains 20 records.\n",
      "File '308642fdb378363ccb87ba2fa4c492d7fd6fb37c.json' contains 19 records.\n",
      "File 'f4c8671af6752cb585bbd7db1b1c0bfe9468d08a.json' contains 20 records.\n",
      "File 'dd4970ca3354dde23c27420588033929a0bd3045.json' contains 20 records.\n",
      "File '4e6dcd7ca26099d2803924a9f86c7d08bdab82c7.json' contains 20 records.\n",
      "File '44352f68ad83603744900daca848434f30b3c2ca.json' contains 19 records.\n"
     ]
    },
    {
     "name": "stderr",
     "output_type": "stream",
     "text": [
      "Processing files:  67%|████████████████████████████████████████████████████████████████████████████████████████▌                                           | 671/1000 [00:05<00:02, 115.42file/s]"
     ]
    },
    {
     "name": "stdout",
     "output_type": "stream",
     "text": [
      "File '76c6bc7c71abf53999ed6361544330c959c0ee39.json' contains 20 records.\n",
      "File 'b6f85c0bb80fdc094f59b568a9ae06b47922144b.json' contains 20 records.\n",
      "File 'd2164bec506969bea7b7c410a449aa7aec97d4df.json' contains 20 records.\n",
      "File '0e127423c0f15b0da3bbf8b230a220f9a6edd094.json' contains 19 records.\n",
      "File '0aa3ba5cc9dba1a58d623ceeca25207d847be098.json' contains 20 records.\n",
      "File '215dfe0f40e0380872435ba2c2a4231973329fa0.json' contains 17 records.\n",
      "File 'ccccc8609e1acafd4fc51fa81635c2d758d361c8.json' contains 20 records.\n",
      "File 'b8532f985afac3a56101e9591a028397f24d8dc3.json' contains 20 records.\n",
      "File 'd3f6d715991fd4485c257495ddbaa8f0baec2587.json' contains 20 records.\n",
      "File 'd860cbb24c41b263588286c82cebc210845a7938.json' contains 20 records.\n",
      "File 'df678131368b538c1f09a385466c9cab3327b947.json' contains 20 records.\n",
      "File 'd2cda520f1767f08ddec0c879b2ace386b84fc72.json' contains 20 records.\n",
      "File 'e3b233093d73b617d056b96c68e6425a39a6a954.json' contains 20 records.\n",
      "File 'e0be40afbb3789ebabd403e3e63e10ddf67d3136.json' contains 20 records.\n",
      "File '90c33141b3958cf1aec6a75fc2ed1fe6f1a795da.json' contains 20 records.\n",
      "File 'a46bf90eb04c23f879600435c77cef5a51ea875d.json' contains 20 records.\n",
      "File '1b064f41a6de53afed1436d96b91a3836324424d.json' contains 19 records.\n",
      "File 'b9383fd5b8f72c1a40fa73991c4eab515dd5967e.json' contains 19 records.\n",
      "File '365fc1715a498490d128f4e08f162f60d437d23e.json' contains 20 records.\n",
      "File '5ab2d08396b741129c16820d12c7f709989fac0c.json' contains 20 records.\n",
      "File '48ca3416d8107458aad8d36d113e22317db94115.json' contains 19 records.\n",
      "File '46bf36fcc4af512cdcfd548c56b1796d2d7215c9.json' contains 19 records.\n",
      "File '6b5098be8182f95d5cecdc53c1e20fbaf85dfdfb.json' contains 20 records.\n",
      "File '29279ac395ab9a82c224d240ac1c6a6bf4a1138c.json' contains 19 records.\n"
     ]
    },
    {
     "name": "stderr",
     "output_type": "stream",
     "text": [
      "Processing files:  70%|███████████████████████████████████████████████████████████████████████████████████████████▋                                        | 695/1000 [00:05<00:02, 116.57file/s]"
     ]
    },
    {
     "name": "stdout",
     "output_type": "stream",
     "text": [
      "File '9d59290b5b12e7e4529066f4dd6bb029228264f2.json' contains 20 records.\n",
      "File '4ba0651aae93bb5e25de8d0723fe84252cf9147c.json' contains 20 records.\n",
      "File '9b0d88aef211e9a058bd6b104e02809644e288be.json' contains 20 records.\n",
      "File '546b6fb17346ea4db8ed4136da13f98e933ef71c.json' contains 20 records.\n",
      "File '890b962a2d0ea587ac56cc5d7c383f9cbfbcf987.json' contains 20 records.\n",
      "File 'a95a6b02adf2ab20e9bea8e226a304fe74c23459.json' contains 20 records.\n",
      "File 'f7724d03962b50cf401484f37fedae02e3bde728.json' contains 19 records.\n",
      "File '149976da936d1924e53eca7151aa92257fe7d5c1.json' contains 20 records.\n",
      "File '9b355916f1b9cbd4d294420b36254ab34d5f918f.json' contains 19 records.\n",
      "File '447fcf0356a07f71f90321ec3a95b4df6a63d0b9.json' contains 20 records.\n",
      "File '33770b109d23daa67544a9ca42acd9bf25bae1d5.json' contains 20 records.\n",
      "File '74d8a02cff06c5345055f4dd14ee8d3d3eb4c250.json' contains 20 records.\n",
      "File '35258ab690a7d5ef031d77f6fbdf7ec2314cd09f.json' contains 20 records.\n",
      "File '354d20379d7ef8dca3f8b2cdfd4b7e7b2b16d1c7.json' contains 20 records.\n",
      "File 'ab2b1dd937f02262c3617a62ab82c387acebc509.json' contains 20 records.\n",
      "File '69ed59637642d29022ecf8f5b81f560c786b430b.json' contains 20 records.\n",
      "File '5191d2ebd64ed9a936730df2a6a1bcf3d52755aa.json' contains 19 records.\n",
      "File '983c91cd00b5e081e827d16fb6f6b659ae34eeff.json' contains 20 records.\n",
      "File '2c1e7282a305862710e97d653be2813c469bf135.json' contains 20 records.\n",
      "File 'a23f132b5f539bf19f16f7596c38733b6ab5200d.json' contains 20 records.\n",
      "File 'dc3be5dbc7a630e598e7a2bc1e8611ef92758c55.json' contains 20 records.\n",
      "File 'f244d87f73bcb608305c860b004bb72ee37efdd9.json' contains 20 records.\n",
      "File '9ffb25e2ef6ee8b1bee9cbb90ed8c3005b67dd05.json' contains 20 records.\n",
      "File '1ae7b663042f556dd1a5f0f09b83a596b84cd0eb.json' contains 20 records.\n",
      "File '2cfb90b902813f370a51026412c67d15b06ee7f1.json' contains 20 records.\n",
      "File 'bacf1116eac0951f35d9fc0faa458a2f0ae82618.json' contains 19 records.\n"
     ]
    },
    {
     "name": "stderr",
     "output_type": "stream",
     "text": [
      "Processing files:  72%|███████████████████████████████████████████████████████████████████████████████████████████████▏                                    | 721/1000 [00:06<00:02, 121.06file/s]"
     ]
    },
    {
     "name": "stdout",
     "output_type": "stream",
     "text": [
      "File 'e82c47c6f1bc3c5bb81a07dfbfb721705b871d12.json' contains 20 records.\n",
      "File 'ba7219b3a8b6bd254d0585c8fd336e8dee723a40.json' contains 20 records.\n",
      "File '6932c04cc8f117ff830eccf2ac1f05915757a4ce.json' contains 19 records.\n",
      "File '91263fe3a731d0282024f5336c7dbeeb60088890.json' contains 19 records.\n",
      "File 'e869807f34d020c8ceb1c0836802efddb46b6a6c.json' contains 20 records.\n",
      "File '1445bf02538f2c5d719aa0a08efcc95321cb681d.json' contains 20 records.\n",
      "File '09f1f1ab9c6cdf14316a264098e761385bd601d0.json' contains 20 records.\n",
      "File 'c1d8c3d11827dad17e0559a0b3c1c9bbb35699b0.json' contains 20 records.\n",
      "File '9d2215715fe286992526c709351b94aa569d803f.json' contains 20 records.\n",
      "File 'a8e4d221c589adf2aad472099f5c4eafe4aefc14.json' contains 19 records.\n",
      "File 'a419b0405934a5de4e464a66d7ff1e2e063ed851.json' contains 20 records.\n",
      "File 'ee3e805ae24efc98ec4458cd4853b7858c13d6de.json' contains 20 records.\n",
      "File '72e9dfb6916319a0f43a4987615665eca9c8e652.json' contains 20 records.\n",
      "File '12c2a1e01d2acf9200a298fe9cf84541abab5beb.json' contains 20 records.\n",
      "File '79ee255cb90ee93be29c6abefa4f83a87d733de7.json' contains 20 records.\n",
      "File 'a1bf1ad29ec43d3db5847dc6b7baf727efa56402.json' contains 20 records.\n",
      "File '94342997c6e1f473841ca9a3bbcd4b8c9e36596a.json' contains 20 records.\n",
      "File 'aba78c8901aa0187569ee44c5e2e7b5ffec013b6.json' contains 20 records.\n",
      "File '2e01f8d216cf464d2075eb9fc906d1982b84906e.json' contains 20 records.\n",
      "File 'afbaaae4a767cae0fafd8f57ae3de471a5840d70.json' contains 20 records.\n",
      "File 'c9034963f1dd0034832c10e357e9a3c2a98dc979.json' contains 20 records.\n",
      "File '7de551a845ee6ff58f2eea963e359e846808b712.json' contains 20 records.\n",
      "File 'a7582227c3a99cc7eb6576d4f39e1f3af5e73975.json' contains 20 records.\n",
      "File '9b7adc828b703caf7290c505854b54ec659b0961.json' contains 20 records.\n",
      "File '20e49f5fc77c82d255838eb2026554ec5872dc4c.json' contains 20 records.\n",
      "File '1fe0d622d88269f07c30d58b77e1aef8f705090e.json' contains 19 records.\n"
     ]
    },
    {
     "name": "stderr",
     "output_type": "stream",
     "text": [
      "Processing files:  75%|██████████████████████████████████████████████████████████████████████████████████████████████████▌                                 | 747/1000 [00:06<00:02, 124.25file/s]"
     ]
    },
    {
     "name": "stdout",
     "output_type": "stream",
     "text": [
      "File '9c94766ec7feeb598eadcde481b3c02ce40d46b4.json' contains 20 records.\n",
      "File 'd014cf2b05c20feaa8c6d5280578495e1104c03b.json' contains 19 records.\n",
      "File '41a1a71c5158d40197db6f325b6746942ac4868c.json' contains 20 records.\n",
      "File 'cc16a20526482cfbca07fe9b7e9f1b1b283a3670.json' contains 19 records.\n",
      "File '9ce52048de2f6f012a41c6db8786f87a3dd4682a.json' contains 20 records.\n",
      "File '2cdaecd27f3e2c7e06adbe5f957eebef55cabc63.json' contains 20 records.\n",
      "File 'e0b34af7dd8e8ff5c79e02be5bb6f5ba79e3a4d0.json' contains 19 records.\n",
      "File '7e31093e078ca0c5b88f2c05f25a9d1d604adf79.json' contains 19 records.\n",
      "File 'beeff7497a3147a7189cf1b53c82d2208018326b.json' contains 20 records.\n",
      "File '47c0659af02abd7747ec88a31f214d40279b2e4c.json' contains 20 records.\n",
      "File '343a067cd6f035421a55537ada4b99fd63328696.json' contains 19 records.\n",
      "File '1054c8e2a20e254e9c174ff5c80666d3699518cf.json' contains 19 records.\n",
      "File 'ce19afd4f495513b7293a506bd89ef1a5cf2e132.json' contains 19 records.\n",
      "File 'b3c38a3da38a01cee1d48aa97ea9c8e1f2868e01.json' contains 20 records.\n",
      "File 'aa465dfdc16fffe0c57a9122c2e4ecdf4af3ef84.json' contains 19 records.\n",
      "File 'd5201bea19aefeb176d51688474466d8043e17f0.json' contains 20 records.\n",
      "File 'de052b76323c40790250aabd9bd26ad4ec1729e0.json' contains 20 records.\n",
      "File 'e939149e4340981360e75b1b400608b93b7c2fb2.json' contains 20 records.\n",
      "File 'b7c165c8690cf1bb710e60131a388adac0e87eb2.json' contains 20 records.\n",
      "File '5f61f3bda524967d5995669846bead4dcc692add.json' contains 20 records.\n",
      "File '0f479fff7da686cc3f4147dfd951854e582b3cc9.json' contains 20 records.\n",
      "File '31ae87ccc081c37707532d4a5344397e72ac9b0b.json' contains 20 records.\n",
      "File '7ebd81fd91ae2cce6d3c534022b4b13b9714c7f5.json' contains 19 records.\n",
      "File '3cfbca9fb50f8c9fde57abbd0f514032392806a4.json' contains 19 records.\n",
      "File '5661e56a10d2d185cf00104ef95c40f1aee993b2.json' contains 20 records.\n",
      "File 'f23778ec3abe3aceb5aaa9abec92cefa25264d90.json' contains 20 records.\n",
      "File '017e501b579f7f559f66b1f2a99d9772654ccb6f.json' contains 20 records.\n"
     ]
    },
    {
     "name": "stderr",
     "output_type": "stream",
     "text": [
      "Processing files:  77%|██████████████████████████████████████████████████████████████████████████████████████████████████████                              | 773/1000 [00:06<00:01, 125.37file/s]"
     ]
    },
    {
     "name": "stdout",
     "output_type": "stream",
     "text": [
      "File 'c5a961aace57145afd66b6f1082c33b58234702c.json' contains 20 records.\n",
      "File 'e1d434622531901854d190dd4a78d0c9f72ae2f1.json' contains 19 records.\n",
      "File 'd1691b48db6a71f4a09d41a657dff1e6fa48cda7.json' contains 19 records.\n",
      "File 'b24186bed78c56fb6b9ac34151b453d71eaf9848.json' contains 20 records.\n",
      "File 'aa4f81f3960361db53ee0a66a24baf52569eeac7.json' contains 19 records.\n",
      "File '757f1b5a347c6660efefbf8b6583226f52eb45d0.json' contains 19 records.\n",
      "File 'b5c430819a8398bcff99b6c3d1d542dfcebd05c5.json' contains 20 records.\n",
      "File '03a0dd6f9b360b8800a4fda5ac5483a13eb60059.json' contains 20 records.\n",
      "File 'e8587c6b7fa7069fc873a526f8fc6cc8ef28c802.json' contains 19 records.\n",
      "File '12997dfec0d7b023cd81d45a896026ebf7830e43.json' contains 20 records.\n",
      "File '090296e333a6e5ceaf8948c666e76d99c79bf416.json' contains 20 records.\n",
      "File 'c5624af22dc292bdac52bb2cd3d22a7ba126d3df.json' contains 20 records.\n",
      "File 'c176d8145c32d7b75582e45420a75762d02ed4d3.json' contains 20 records.\n",
      "File 'd0d2bd4f049b385a90ec4b112d2f2279b13c9670.json' contains 20 records.\n",
      "File '9823e085e8720fc5cb88ecc4945a38619794655c.json' contains 20 records.\n",
      "File 'a28d1aa1aa8d7e9bf1be2fb6ba0f78cc508a42e0.json' contains 20 records.\n",
      "File 'b0100d8caa865ba9e29008ab25908b8b193a17bd.json' contains 20 records.\n",
      "File 'e65438126e4868d13f10602fcb786d53b803fd94.json' contains 19 records.\n",
      "File 'c0e1ffa60bb963b2009cad5c2253ef9a859cb821.json' contains 20 records.\n",
      "File 'ba2985e1943b045d040e9050609da63024ca0f51.json' contains 20 records.\n",
      "File 'bb800bbc2e646f737615000721b8780124d466de.json' contains 20 records.\n",
      "File 'ed1edea24e3c5f34ad9574cfa5f08954870aaa4e.json' contains 20 records.\n",
      "File '1af053f250fbd1d8e87083ed678b1bcffb9a383f.json' contains 19 records.\n",
      "File 'be9435e721fbe912f9b1e0622ff06638035d0a9b.json' contains 20 records.\n",
      "File '63d8aa3d3628a3bae59d20929fb0e545cca38cca.json' contains 20 records.\n",
      "File '4e9e4564975cc29df82bb65cc10e83d3ec2b7914.json' contains 20 records.\n"
     ]
    },
    {
     "name": "stderr",
     "output_type": "stream",
     "text": [
      "Processing files:  80%|█████████████████████████████████████████████████████████████████████████████████████████████████████████▍                          | 799/1000 [00:06<00:01, 120.37file/s]"
     ]
    },
    {
     "name": "stdout",
     "output_type": "stream",
     "text": [
      "File '57f1ec0355f3246f247cda8451275f03eb33cb3c.json' contains 20 records.\n",
      "File 'e1ec28d84786af5b791f1d2152c550cc7cd30f89.json' contains 20 records.\n",
      "File 'fddee0695bb47a32df18345025b0e209d27a1b07.json' contains 20 records.\n",
      "File 'fec8f895bf19f961acf43e2a8efb423622883120.json' contains 20 records.\n",
      "File '952bedfd1e0530793022d683874f3210e2113a18.json' contains 20 records.\n",
      "File 'cbd697d469d228639370ce57b0dfa75cae86d4f9.json' contains 20 records.\n",
      "File 'f8511961bf2f7cefd353e382ed35e38f1c92ac91.json' contains 20 records.\n",
      "File '9e69b1091aec8b6275916f6516e2eed522f96eb8.json' contains 20 records.\n",
      "File 'f211fb048e73fdaa11485deda9436b5815e5e79d.json' contains 19 records.\n",
      "File 'c7a542aabf262b07f4ad1406bbbaf6ddcc8f327b.json' contains 20 records.\n",
      "File '34d84a5d446a5340d6a88f5a684c588b21f1c731.json' contains 19 records.\n",
      "File 'c84d8a8e61230b4d8a9e451abdc94c901cad80de.json' contains 19 records.\n",
      "File 'a4f020fd3d94481d6cd4ada972669dabad696980.json' contains 20 records.\n",
      "File '603702978a25bc3a826cfc46842613698c7d05dc.json' contains 20 records.\n",
      "File '5e6039e24696dfd471abaaaef64702dbc65dd8a7.json' contains 20 records.\n",
      "File '0c710bd06b504275e28cbf91e060a411c3fe1f11.json' contains 20 records.\n",
      "File '5dde82d356b8a84c3dce6bd503758bcd8490a104.json' contains 20 records.\n",
      "File 'f70b0a278d40c10a237d686f1cc5a5f7f3b9d626.json' contains 20 records.\n",
      "File '1ceda188fc51c189d60bc7e27cd29539f8ade36e.json' contains 20 records.\n",
      "File '1f2bb190c1218f6a2b743a8f90d60261d559e4ce.json' contains 20 records.\n",
      "File 'af1faabe9e72c503487aa86142145d9f3cc58f85.json' contains 20 records.\n",
      "File '0cd4437752dda4e78f5c52e030358806c287b5f3.json' contains 19 records.\n",
      "File '68246cbdfaa6d4841cb3a2c9fa365b92159e1ebf.json' contains 20 records.\n",
      "File '7ccb48174d2a9ef123c195fb1e8720e27023d01d.json' contains 20 records.\n",
      "File 'dd160ae8926db827f530f7422bf02e751927e2cb.json' contains 20 records.\n",
      "File '7ac5485fe73b1d9d6eabdd29aa3434dfd6404843.json' contains 20 records.\n"
     ]
    },
    {
     "name": "stderr",
     "output_type": "stream",
     "text": [
      "Processing files:  83%|█████████████████████████████████████████████████████████████████████████████████████████████████████████████                       | 826/1000 [00:06<00:01, 124.50file/s]"
     ]
    },
    {
     "name": "stdout",
     "output_type": "stream",
     "text": [
      "File '27dc20936747e865686a3359890d92e2daeed8bf.json' contains 19 records.\n",
      "File '0f31b4ccb95d0e7f3ed630519bc33c76004e4345.json' contains 20 records.\n",
      "File 'f15a4f9711bfa0a40f038d0327d5e94979fdbb14.json' contains 20 records.\n",
      "File 'a21f2b92ddd6ee66111e97e68182a2ed2ac6229c.json' contains 19 records.\n",
      "File 'c29c47476b73baf759c54468d4aa599f41c65aa9.json' contains 20 records.\n",
      "File '06e091dfe249b00d6b02925803471c7b9e6645eb.json' contains 20 records.\n",
      "File '674b8a0b6c6940e4553f77ba0104334384b66bd5.json' contains 20 records.\n",
      "File '336baca6d8b86128bdb011fca5b5f67309c25e1c.json' contains 20 records.\n",
      "File '1c02d76b62d0b9ae132f7405a9bdadf5a940accd.json' contains 20 records.\n",
      "File '2ec46e4afb4f217300f892e81734014d616e2c7f.json' contains 20 records.\n",
      "File 'f1f31be535bf4daed802fdec86d2ef1527a1f7bb.json' contains 20 records.\n",
      "File 'b5efa5936cf7c8350322a6f9c12e10956290717d.json' contains 20 records.\n",
      "File '649311ecbcbc9a844b4480a28dd05b1b9c71540a.json' contains 19 records.\n",
      "File 'fed12f97a76f9c7f22f00e263fa25fd0dc0c227a.json' contains 19 records.\n",
      "File '70b1cb7b0c21fc7d2189fe317a73619bab16e1ee.json' contains 20 records.\n",
      "File 'ba687d230244188bb405deb564082c132daa083c.json' contains 20 records.\n",
      "File '428e5a3b5f947b05f57f65c1f9bdbaca957eff91.json' contains 20 records.\n",
      "File '0ed4558e8ab88aeeb2d7bc9d551b138070e0ff68.json' contains 20 records.\n",
      "File 'b7071d98d8d17df2a1acd663407c110681a1920a.json' contains 20 records.\n",
      "File '85bbb983882c19c0f7e64541a2b68834a6c52823.json' contains 20 records.\n",
      "File 'f7de8483efe7b0c5a6bd7e22d1c56fe56704a68e.json' contains 20 records.\n",
      "File '293c7cdb4f0acf9ac2d5c56bcf77644c3454bc40.json' contains 20 records.\n",
      "File 'f4f3753183abd6b6367648581b65db2719046729.json' contains 20 records.\n",
      "File 'cdd47d73708d342340e75752c158f576ca28b583.json' contains 19 records.\n",
      "File 'd7c74fd9c6659bfb93dfa2537202f8e8968e9364.json' contains 19 records.\n",
      "File 'c67bd461895922c6e0126b351968eaaa56c22863.json' contains 20 records.\n",
      "File '93f772541ae91a8962c900bb0d00b4185f614982.json' contains 20 records.\n"
     ]
    },
    {
     "name": "stderr",
     "output_type": "stream",
     "text": [
      "Processing files:  85%|████████████████████████████████████████████████████████████████████████████████████████████████████████████████▍                   | 852/1000 [00:07<00:01, 124.40file/s]"
     ]
    },
    {
     "name": "stdout",
     "output_type": "stream",
     "text": [
      "File 'b6dc549c69f765d8bf9634e71414a113dea66217.json' contains 20 records.\n",
      "File '849f6a453a65d2dc7757b5d78779a6904af09539.json' contains 20 records.\n",
      "File '57472bb173143096bfe42498c05b7fd84e19e628.json' contains 19 records.\n",
      "File 'fb2bed1a3358b7a0ca6dcf7f40db1afa1d13fd83.json' contains 19 records.\n",
      "File '4d141153ba52dd00bf474a7bd9598ce2b599df3a.json' contains 20 records.\n",
      "File '19fdb90156a19971368618074e111011a0494971.json' contains 20 records.\n",
      "File 'd36f4d74f583cb6fc24e20df5d4f99a1e40b17e7.json' contains 20 records.\n",
      "File 'ed5cbb35f5a19156532f2ec3519cdc1dcb4daf96.json' contains 20 records.\n",
      "File '56a3e7d6c5f8e04fcce40addec221b58299fcc89.json' contains 20 records.\n",
      "File '46e570c5c44e8215501d6586a84e043f653a37c1.json' contains 19 records.\n",
      "File '0ccd564290bf26a1380840851c752ed2cb9526a8.json' contains 20 records.\n",
      "File '7d87f11ad8cd1eeb904fa4a2672057fd8e3512ad.json' contains 19 records.\n",
      "File '057a83f0ea2a928ee483b35a0239cf8b67fdebfa.json' contains 20 records.\n",
      "File 'b5365a7d057d15f1bd962c953404f2e1602abeba.json' contains 20 records.\n",
      "File '7139caf0891baa88476235a1eb58af43772f55f3.json' contains 20 records.\n",
      "File '8b83ab558a312eb217f4f150b99f0ecbc27e686f.json' contains 20 records.\n",
      "File '9050aca6c79f8bfb85b8692abc04f5f2a129796d.json' contains 20 records.\n",
      "File '2b25e11e468e5a64fbe96f562fe1cf6d5e8c25aa.json' contains 19 records.\n",
      "File 'ac61d2694948a51f98410254be5fc9442d8cbab4.json' contains 20 records.\n",
      "File '28d63cddd8b23c64e58f7e60f74e91cc5a64e9e3.json' contains 20 records.\n",
      "File '63c9d43f2e040b39db942f0c48472bd45bf21883.json' contains 20 records.\n",
      "File '616a3b2c82c69068ea2c5a30855eb9ec78a2c5de.json' contains 20 records.\n",
      "File '12dde26ed54e6a6e77f3b4eeb3c3b8c6c9c7ead0.json' contains 20 records.\n",
      "File '9a13f8f899aa7dd9fd41aa8fafb1f70f95c189ec.json' contains 20 records.\n",
      "File '824c99d83d27b33a11c926736435a27b748369f9.json' contains 20 records.\n",
      "File 'd0c9f191b1c3c9a4ae2cf932ad47190b838f8fc3.json' contains 20 records.\n"
     ]
    },
    {
     "name": "stderr",
     "output_type": "stream",
     "text": [
      "Processing files:  88%|███████████████████████████████████████████████████████████████████████████████████████████████████████████████████▉                | 878/1000 [00:07<00:01, 121.48file/s]"
     ]
    },
    {
     "name": "stdout",
     "output_type": "stream",
     "text": [
      "File '4398efdf6f5a50d528a47b4342c0092b5cc9eac4.json' contains 20 records.\n",
      "File 'c0f91b9d6147754ecd6b72f5f6e0f484a150b0e7.json' contains 20 records.\n",
      "File '1b7fa60a048073e0ba57aeac7686781f77c9561b.json' contains 20 records.\n",
      "File 'c9dbaf2885c714e3036f6aac54a74c3d6e75e472.json' contains 20 records.\n",
      "File 'fa822e7e578d4296e0d05852c05e4948d86eaeff.json' contains 19 records.\n",
      "File 'ab5e55c4bc9146c93e2157b68df6aea51b76f90e.json' contains 20 records.\n",
      "File '482ee6589b3d8fe5b463d5691fd610900a354ff5.json' contains 19 records.\n",
      "File '6f41d15f2a46397a698b659ce71d1e28064c4dd7.json' contains 20 records.\n",
      "File 'd8540fae87d82f443af64d5924e6f439bcad23a9.json' contains 20 records.\n",
      "File 'b790423f6f20720ccf21d6034fd5011abcf5ccec.json' contains 20 records.\n",
      "File '8a2ecface14d7c6d38319ad7e4521cdb62b7558d.json' contains 20 records.\n",
      "File '07fd0cd20f0ca5be31a27ebbc71f95b5612c2604.json' contains 20 records.\n",
      "File 'a49d21efbc0aa2d8231ddab32490aee971232c75.json' contains 20 records.\n",
      "File '14756f04de968880e814e27b1a73d1ed8b9e7939.json' contains 20 records.\n",
      "File '4581d581135026c04b7584acc08658f0fc0be3c2.json' contains 20 records.\n",
      "File '5da5307eb52a5042b725a803970fed0d27e53809.json' contains 20 records.\n",
      "File '713a52bade93bdc23bb7db39ca38ccfa92e7c249.json' contains 20 records.\n",
      "File 'e7eb7dfd65838f03f7f711529c202ca31e66931c.json' contains 20 records.\n",
      "File '99cc0aa27490111fc888e31996ecb44d861b9986.json' contains 20 records.\n",
      "File '760c3b12157a8bc465c2f424c0b7089110fe6997.json' contains 20 records.\n",
      "File 'f89576a3ef3e1842d4d92cd0d5e31be24a3c7a77.json' contains 20 records.\n",
      "File 'f36c6c87dc3d9c9fa205dfc6bf2dbf3d1f6feabe.json' contains 20 records.\n",
      "File '88f9fd297b7010e1b199e1ede5e67b791276891b.json' contains 20 records.\n",
      "File '2e43ebb59ea3f0cff7670dae956f86fad5b66bb8.json' contains 19 records.\n",
      "File 'feb0473f2680d130bbefb54865417c71b1ba01d5.json' contains 20 records.\n"
     ]
    },
    {
     "name": "stderr",
     "output_type": "stream",
     "text": [
      "Processing files:  90%|███████████████████████████████████████████████████████████████████████████████████████████████████████████████████████▎            | 904/1000 [00:07<00:00, 124.17file/s]"
     ]
    },
    {
     "name": "stdout",
     "output_type": "stream",
     "text": [
      "File '94bb8bed62a82f385755db603de6d15087cf9771.json' contains 19 records.\n",
      "File 'feded452b6e29ceca73583bc68ff89a698eec345.json' contains 20 records.\n",
      "File '027262f0c1a9cb77769357396e2938c8e5db6f9b.json' contains 20 records.\n",
      "File '18766fcc7b594f8283ffa51a1c2c1c4298060fc8.json' contains 20 records.\n",
      "File 'c7d96cc41469dcd5feee880c99f32e42bccce60c.json' contains 20 records.\n",
      "File 'c47452238f233192aab9ffadab276a166d9193a4.json' contains 20 records.\n",
      "File '8ad2d6d7fbff32c5fea07cb3423693abe3d12d9a.json' contains 20 records.\n",
      "File '4e49c4fc5f2c6e87789c6542c0ce5b0a6b24536b.json' contains 19 records.\n",
      "File 'b907922d980e95c34c3a5798cc6f5452cc047d9c.json' contains 20 records.\n",
      "File '8f530168d15dfd9d285045694e33524a42f8c765.json' contains 20 records.\n",
      "File '932ec481ac97d34f83ce3f36d5b675ef73a9d987.json' contains 20 records.\n",
      "File '01df5400ad97e251b74a26f4391a5d0c74268fad.json' contains 20 records.\n",
      "File '58b8f1f31b3339395c94cf6426447a58d51f4eaa.json' contains 20 records.\n",
      "File 'a851c3cfb8bbe07254ffcccf1451a212e0761ac1.json' contains 20 records.\n",
      "File '95e0d34d7d7c41054d9c4e2e635baf47c5f57b87.json' contains 20 records.\n",
      "File 'c3c7857b3eb06e1ac8c116f31d1f7d226133cad9.json' contains 20 records.\n",
      "File 'e5fc0e8e54f955d2ad4c1fc43860f185a67b95c5.json' contains 20 records.\n",
      "File 'e4723130f40ede53b1337b5354d4d0a1c8fe4a31.json' contains 20 records.\n",
      "File 'ab2060cb016cfbd682a5d28f1beaeafa5beeca2f.json' contains 19 records.\n",
      "File '323a0d9f3372f8081aa2331ae4050bf5440bd957.json' contains 19 records.\n",
      "File '8ada590c870c0ecf9eb1a0232866cac6ba2e21e7.json' contains 20 records.\n",
      "File '13d4287e92507ae52db40fafadec67729dd19797.json' contains 20 records.\n",
      "File 'af870289b6258755fc450ffec61a9aaf9de94a2d.json' contains 20 records.\n",
      "File 'ffd45e6ebaa8439cb69ee8d5deffb6cc353e7940.json' contains 20 records.\n",
      "File '9e26216dd850ebb91a8a7374cc60f40407c3106d.json' contains 20 records.\n",
      "File '657ffb220a467d95f0be8c701e87725be66cbb63.json' contains 20 records.\n",
      "File 'b5eddd4cc855a870d5ee599c099635570c5b775f.json' contains 19 records.\n"
     ]
    },
    {
     "name": "stderr",
     "output_type": "stream",
     "text": [
      "Processing files:  93%|██████████████████████████████████████████████████████████████████████████████████████████████████████████████████████████▊         | 930/1000 [00:07<00:00, 124.10file/s]"
     ]
    },
    {
     "name": "stdout",
     "output_type": "stream",
     "text": [
      "File 'd400e962c530524542ce2495bead4b3afc0acb18.json' contains 20 records.\n",
      "File 'c72376e65146b91958c7e4a37ca4ea07025a2443.json' contains 20 records.\n",
      "File 'ae6656576d5c65f0227e565d30db8b2680bf4441.json' contains 20 records.\n",
      "File 'c8d9a1f691cdfa084c76349a166ab23da17a9abb.json' contains 20 records.\n",
      "File '16647380bfce43b95605bc450c3005549270b654.json' contains 20 records.\n",
      "File '3fbc96c24ab2a7aafabc9b0f1b9f53f45a4b8a4a.json' contains 20 records.\n",
      "File 'c10cdaf5a6cf91a03e2a7a0e20833e0de79101cb.json' contains 20 records.\n",
      "File 'a4da421b0ce44b0f2949c9cc4a58c0290b5c51a5.json' contains 20 records.\n",
      "File '9baba4cef2613da5f03189a81b08bb8c4860787f.json' contains 20 records.\n",
      "File '0126d9c53b7ab721c45ba0524c8ca8ced0c9bf86.json' contains 20 records.\n",
      "File 'db0cfe7b25d26a307274821e4cf6b2b25474ca04.json' contains 19 records.\n",
      "File '3cd1c6f6bb71b87bf8218d1c9be76926a8ff3a26.json' contains 20 records.\n",
      "File 'b864aea297e832f8d2d1e9031e07ff01666ca7f8.json' contains 19 records.\n",
      "File '56528d3422b7d41010991f9709dcacdc24f15936.json' contains 20 records.\n",
      "File '2e6ecb457d1ce3d9e5c854f26ce6157332881b78.json' contains 20 records.\n",
      "File '6c29fa182ea929f6a7e36a56d5956014b70c0a0d.json' contains 19 records.\n",
      "File 'fdac24e94e281bbf5ebb4b3c10b031b5b6e7537b.json' contains 20 records.\n",
      "File '8dca0fc51d80be0087119b1a54771fe307c3aa15.json' contains 20 records.\n",
      "File '9e2f43483aae3925a440cb87c1666b140ca0f008.json' contains 19 records.\n",
      "File '1bae6e587817090de4697daefbe76db6ab459917.json' contains 20 records.\n",
      "File '2b502216c18116e9f14c12cd61ae08359fa81b23.json' contains 20 records.\n",
      "File '5667323352556abc34570a42d414d6ce4fb719bb.json' contains 20 records.\n",
      "File 'a6aef5176243f1c10c10376732257921140de5c8.json' contains 20 records.\n",
      "File '6d7bcb4a70b52caa52cff4514acc28157e44156f.json' contains 20 records.\n",
      "File '1f39d34d6db426f1b9916e35907455fb530423f9.json' contains 20 records.\n",
      "File '822deec407a8d9c8e776b786c951e9f7d454b98e.json' contains 20 records.\n"
     ]
    },
    {
     "name": "stderr",
     "output_type": "stream",
     "text": [
      "Processing files:  96%|██████████████████████████████████████████████████████████████████████████████████████████████████████████████████████████████▏     | 956/1000 [00:08<00:00, 123.02file/s]"
     ]
    },
    {
     "name": "stdout",
     "output_type": "stream",
     "text": [
      "File '59dcbdaede055813ab578104cd392eaed676f995.json' contains 19 records.\n",
      "File 'ee24da9c28013a83fcf20e93af7941f6993d8f12.json' contains 19 records.\n",
      "File '35e19d0b05f6e78ffefd64f39da1319b18e20b3d.json' contains 20 records.\n",
      "File 'b799a24f912c7dba2568d41ca2d5de1e3ec559d2.json' contains 20 records.\n",
      "File '79011e3d8effc1237733fd71ae964132384f2c83.json' contains 20 records.\n",
      "File 'cfbf1266e323b35b92338c6cd4ba44d3683b3ec7.json' contains 20 records.\n",
      "File '5361b79b0286abdeba42ef84a6637a5f55c9c81f.json' contains 20 records.\n",
      "File 'ffb9d6cc092bc965d58ef551b49691e6fa4c1d72.json' contains 19 records.\n",
      "File '1bfa4450879bc74949d9b4ac686472a07df080ed.json' contains 19 records.\n",
      "File '1c98144b699ca1c9ba219dc668f06e90e71f753c.json' contains 19 records.\n",
      "File '46c8c7cc69f081b40831f722bdf36890de822e26.json' contains 20 records.\n",
      "File 'b8de92eb7bc77d6694a9a37a444b9d1be7493666.json' contains 20 records.\n",
      "File 'c7a9e2cb1e8b9d1b22cc870a7fc4c8e7acb585a7.json' contains 20 records.\n",
      "File 'feaba2e6e3e4e84f4c2811db0c5da37eec9c74b9.json' contains 19 records.\n",
      "File '811f7e84b6d74ac65f0fc174a22b25885b774f63.json' contains 20 records.\n",
      "File 'd0eac39d502dda1232e6e044c0502e6d9c9e67f4.json' contains 20 records.\n",
      "File '02720167ad93afa1eaa189821b40ca7852ea258c.json' contains 20 records.\n",
      "File '2bc6c7aece909de5807080f4e30dd4f4fb68f54a.json' contains 20 records.\n",
      "File '478d525c6ee77a8fb0a86867469301ddb42c269c.json' contains 20 records.\n",
      "File '1b41864bfd5cea6615602596a60d37ed04be128a.json' contains 20 records.\n",
      "File 'd41c9d75c59508b45eca559b1059e41620787a92.json' contains 19 records.\n",
      "File '417a572fc8d209a27a75ea3bed253a57a541cdeb.json' contains 20 records.\n",
      "File '486855f6204545ca78615122bf71a64f7aeaf52b.json' contains 20 records.\n",
      "File 'da997ef7787bcbf6a92a0024bf302134ea543a2b.json' contains 20 records.\n",
      "File '60b2d35bd8fd1ad00d71d43608236de316461880.json' contains 20 records.\n",
      "File 'd0649ea865794112f5403684d7a7d28c6c2e2253.json' contains 20 records.\n"
     ]
    },
    {
     "name": "stderr",
     "output_type": "stream",
     "text": [
      "Processing files:  98%|█████████████████████████████████████████████████████████████████████████████████████████████████████████████████████████████████▌  | 982/1000 [00:08<00:00, 124.44file/s]"
     ]
    },
    {
     "name": "stdout",
     "output_type": "stream",
     "text": [
      "File '18580e97a9c336c341b33ca485f9c7c78032d841.json' contains 20 records.\n",
      "File '2572c4b8a989dd7e7a668dff584c68b07d728c9c.json' contains 20 records.\n",
      "File '14420f7c69772ce5a4cb63b6ea417fee245d4f9f.json' contains 20 records.\n",
      "File '0e21d4a9d2b2c0d940fe08e2b723adf29df91b44.json' contains 19 records.\n",
      "File 'a29eeb1da9fa2173f1e93177d262d80403bfc0c1.json' contains 20 records.\n",
      "File 'a035f95c1e091507f86f11b65587fe698177db89.json' contains 20 records.\n",
      "File '70b106af43a3c3f8b569fa30416bc9d5518c2829.json' contains 20 records.\n",
      "File '6755b3e6242da01e553592b113bd47d2f412a79a.json' contains 20 records.\n",
      "File '6811c0049e05d970ac52b06e003cb9dd00ee18c8.json' contains 20 records.\n",
      "File '691e389e0a030b816e226ca83fcffc41ce82bfac.json' contains 20 records.\n",
      "File '52282eced64074a3b7993ffdab23147093c2f412.json' contains 20 records.\n",
      "File '092ef5bf37530fad8a203eec78e391d4cba3335b.json' contains 20 records.\n",
      "File '669118e68f50a1fab67b13d6b151d1766e679454.json' contains 19 records.\n",
      "File 'a8e62a0ae59f20e67237f35369f4ec7714ac5a61.json' contains 20 records.\n",
      "File '94313a2a13f645dca19bdf36a43b5095d809ba78.json' contains 20 records.\n",
      "File '947a096d7e6c6e0986d815618e5bada8fb177313.json' contains 20 records.\n",
      "File '961553a4dfc0e8a759c60b7cc7c5a0a37b2249da.json' contains 20 records.\n",
      "File 'e5abb5dded059e7848f6a5ba31d5367442caca0b.json' contains 20 records.\n",
      "File '2564ae99d1ce205f06b0f3e2d33487c84bc23a3a.json' contains 19 records.\n",
      "File '77b02b09936abf98e599837df35c6a2fb9818eb9.json' contains 20 records.\n",
      "File 'f73e26dbc497c3b8a7325afd5197b177eca62eaf.json' contains 20 records.\n",
      "File '1cb81723b065aa01c0b6c52562f9df83a8260369.json' contains 20 records.\n",
      "File 'f5089f136444d5c9323a23ef883cef23274d8954.json' contains 19 records.\n",
      "File '7f88f636566d458c5aefce947fea94972ffb2470.json' contains 20 records.\n",
      "File '8ca6d52e7181321fcc2e31bb42e554af858aca56.json' contains 20 records.\n",
      "File 'dd21485c4b0c98bd5f0492c7765791eeb9fde191.json' contains 20 records.\n"
     ]
    },
    {
     "name": "stderr",
     "output_type": "stream",
     "text": [
      "Processing files: 100%|███████████████████████████████████████████████████████████████████████████████████████████████████████████████████████████████████| 1000/1000 [00:08<00:00, 119.35file/s]\n"
     ]
    },
    {
     "name": "stdout",
     "output_type": "stream",
     "text": [
      "File 'd1f1b03b93b2931e9438f1be83a9f73a262ac021.json' contains 19 records.\n",
      "File 'f89841937d7f0da93d529a4614adde9c16d5a4be.json' contains 20 records.\n",
      "File '4a58f16b9a8704e23863c02ec16dd0c6d79f8b5a.json' contains 19 records.\n",
      "File '38731823cbab629ee8d96cf751518275bc471629.json' contains 20 records.\n",
      "File '83a57799312ee2a7d1b50cdc591c437df9f3b6de.json' contains 19 records.\n",
      "File '3922471993bed6989d62ce5958c33182963c5c45.json' contains 19 records.\n",
      "File '4e549b24471637ddf4d53e645e32a708515b186c.json' contains 20 records.\n",
      "File 'd7355ac111ae173b7187accd2419ad8922daa1cc.json' contains 20 records.\n",
      "File 'd32d97c9876aba4092f6bc4801025e2a687c84ce.json' contains 19 records.\n",
      "File '90bd31740b3a65069fea714f56ce69a01cc5b42c.json' contains 20 records.\n",
      "File '6e0e5c0306c33593aaf38f21afe4af459ceac974.json' contains 20 records.\n"
     ]
    }
   ],
   "source": [
    "import os\n",
    "import json\n",
    "import pandas as pd\n",
    "from collections import defaultdict\n",
    "import re\n",
    "from tqdm import tqdm\n",
    "\n",
    "# Define the path to your directory\n",
    "input_directory = './characters'\n",
    "\n",
    "# Function to count records in JSON\n",
    "def count_json_records(data):\n",
    "    if isinstance(data, list):\n",
    "        return len(data)\n",
    "    elif isinstance(data, dict):\n",
    "        # Count top-level keys as \"records\" if it's a dictionary\n",
    "        return len(data)\n",
    "    else:\n",
    "        # Handle other structures gracefully\n",
    "        return 1\n",
    "\n",
    "# Feature extraction functions\n",
    "def extract_features_from_nested_json(json_data):\n",
    "    features = defaultdict(float)\n",
    "\n",
    "    def process_text_feature(text):\n",
    "        features[text] += 1\n",
    "\n",
    "    def process_text_with_numbers(text):\n",
    "        numbers = list(map(float, re.findall(r\"-?\\d+\\.?\\d*\", text)))\n",
    "        if numbers:\n",
    "            mean_value = sum(numbers) / len(numbers)\n",
    "            feature_name = re.sub(r\"[-+]?\\d+\\.?\\d*%\", \"\", text).strip()\n",
    "            features[feature_name] += mean_value\n",
    "        else:\n",
    "            process_text_feature(text)\n",
    "\n",
    "    def process_number_feature(key, value):\n",
    "        features[key] += value\n",
    "\n",
    "    def process_boolean_feature(key, value):\n",
    "        features[key] += int(value)\n",
    "\n",
    "    def process_json_structure(data, parent_key=\"\"):\n",
    "        if isinstance(data, dict):\n",
    "            for key, value in data.items():\n",
    "                new_key = f\"{parent_key}_{key}\" if parent_key else key\n",
    "                process_json_structure(value, new_key)\n",
    "        elif isinstance(data, list):\n",
    "            for item in data:\n",
    "                process_json_structure(item, parent_key)\n",
    "        elif isinstance(data, str):\n",
    "            if re.search(r\"-?\\d+\\.?\\d*\", data):\n",
    "                process_text_with_numbers(data)\n",
    "            else:\n",
    "                process_text_feature(data)\n",
    "        elif isinstance(data, (int, float)):\n",
    "            process_number_feature(parent_key, data)\n",
    "        elif isinstance(data, bool):\n",
    "            process_boolean_feature(parent_key, data)\n",
    "\n",
    "    process_json_structure(json_data)\n",
    "    return pd.DataFrame([features])\n",
    "\n",
    "# Function to process JSON files with record counting and limit to 1000 files\n",
    "def extract_features_from_json_directory(directory_path, limit=1000):\n",
    "    filenames = [f for f in os.listdir(directory_path) if f.endswith('.json')]\n",
    "    all_features = []\n",
    "    \n",
    "    for i, filename in enumerate(tqdm(filenames[:limit], desc=\"Processing files\", unit=\"file\")):\n",
    "        file_path = os.path.join(directory_path, filename)\n",
    "        with open(file_path, 'r') as f:\n",
    "            json_data = json.load(f)\n",
    "        \n",
    "        # Count and print the number of records in each file\n",
    "        record_count = count_json_records(json_data)\n",
    "        print(f\"File '{filename}' contains {record_count} records.\")\n",
    "        \n",
    "        # Extract features\n",
    "        df_features = extract_features_from_nested_json(json_data)\n",
    "        df_features['filename'] = filename\n",
    "        all_features.append(df_features)\n",
    "    \n",
    "    # Concatenate all feature dataframes after processing the limited number of files\n",
    "    return pd.concat(all_features, ignore_index=True) if all_features else pd.DataFrame()\n",
    "\n",
    "# Run the extraction process with a limit of 1000 files\n",
    "combined_features_df = extract_features_from_json_directory(input_directory, limit=1000)\n",
    "\n",
    "print(\"Processed DataFrame:\")\n",
    "print(combined_features_df)\n"
   ]
  },
  {
   "cell_type": "code",
   "execution_count": null,
   "id": "fd33ec03-cda3-4610-bbb6-7f4a82771401",
   "metadata": {},
   "outputs": [],
   "source": [
    "output_csv_path = os.path.join(output_directory, 'combined_extracted_features.csv')\n",
    "combined_features_df.to_csv(output_csv_path, index=False)\n",
    "\n",
    "print(f\"CSV file saved to {output_csv_path}\")"
   ]
  }
 ],
 "metadata": {
  "kernelspec": {
   "display_name": "Python 3 (ipykernel)",
   "language": "python",
   "name": "python3"
  },
  "language_info": {
   "codemirror_mode": {
    "name": "ipython",
    "version": 3
   },
   "file_extension": ".py",
   "mimetype": "text/x-python",
   "name": "python",
   "nbconvert_exporter": "python",
   "pygments_lexer": "ipython3",
   "version": "3.12.3"
  }
 },
 "nbformat": 4,
 "nbformat_minor": 5
}
