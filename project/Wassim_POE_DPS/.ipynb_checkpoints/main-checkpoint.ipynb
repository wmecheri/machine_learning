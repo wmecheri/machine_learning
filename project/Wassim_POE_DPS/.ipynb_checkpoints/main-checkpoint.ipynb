{
 "cells": [
  {
   "cell_type": "markdown",
   "id": "f6656662-52f2-45b5-a709-4bdd3ebdec85",
   "metadata": {},
   "source": [
    "RANDOM FOREST TO COMPLETE NULL VALUES"
   ]
  },
  {
   "cell_type": "code",
   "execution_count": 1,
   "id": "80f214bb-41ff-481e-ba04-02eba9993d87",
   "metadata": {},
   "outputs": [],
   "source": [
    "import zipfile\n",
    "import os\n",
    "import pandas as pd\n",
    "import json\n",
    "from tqdm import tqdm\n",
    "from IPython.display import display\n",
    "import re"
   ]
  },
  {
   "cell_type": "code",
   "execution_count": 2,
   "id": "d93cf63e-c37e-4d40-9934-cc0375f3e5c0",
   "metadata": {},
   "outputs": [
    {
     "name": "stdout",
     "output_type": "stream",
     "text": [
      "[INFO] './data/characters' ALREADY EXISTS! SKIP EXTRACTION!\n"
     ]
    }
   ],
   "source": [
    "zip_path = './data/characters-2024-11-05.zip'\n",
    "target_directory = './data/'\n",
    "character_json_path = './data/characters'\n",
    "\n",
    "try:\n",
    "    # Check if the extraction has already been done\n",
    "    if os.path.exists(character_json_path):\n",
    "        print(f\"[INFO] '{character_json_path}' ALREADY EXISTS! SKIP EXTRACTION!\")\n",
    "    else:\n",
    "        os.makedirs(target_directory, exist_ok=True)\n",
    "        \n",
    "        # Open the .zip file and extract all its contents\n",
    "        with zipfile.ZipFile(zip_path, 'r') as zip_file:\n",
    "            zip_file.extractall(target_directory)\n",
    "        \n",
    "        print('EXTRACTION OK!')  # JSON files are in characters\n",
    "\n",
    "# Error handling\n",
    "except Exception as e:\n",
    "    print(f\"[ERROR] {e}\")"
   ]
  },
  {
   "cell_type": "code",
   "execution_count": 3,
   "id": "84ff5e71-82cf-4e2e-8f15-f18e2329fb5d",
   "metadata": {},
   "outputs": [],
   "source": [
    "def collect_json_keys(character_data, all_keys, parent_key=''):\n",
    "    if isinstance(character_data, dict):\n",
    "        for key, value in character_data.items():\n",
    "            new_key = f\"{parent_key}.{key}\" if parent_key != '' else key\n",
    "            if not (new_key.endswith('id') or new_key.endswith('icon') or new_key.endswith('passiveTreeUrl')):\n",
    "                collect_json_keys(value, all_keys, new_key)\n",
    "            \n",
    "    elif isinstance(character_data, list):\n",
    "        for index, element in enumerate(character_data):\n",
    "            new_key = f\"{parent_key}[{index}]\"\n",
    "            if not (new_key.endswith('id') or new_key.endswith('icon') or new_key.endswith('passiveTreeUrl')):\n",
    "                collect_json_keys(element, all_keys, new_key)\n",
    "            \n",
    "    else:\n",
    "        if isinstance(character_data, bool) or isinstance(character_data, (int, float)):\n",
    "            all_keys.add(parent_key)\n",
    "        \n",
    "        elif isinstance(character_data, str):\n",
    "            if re.search(r'\\d+', character_data):\n",
    "                generalized_text = re.sub(r'\\d+', '#', character_data)\n",
    "                all_keys.add(generalized_text)\n",
    "            else:\n",
    "                all_keys.add(character_data)"
   ]
  },
  {
   "cell_type": "code",
   "execution_count": 4,
   "id": "9183f5ec-18f7-42ab-bf5d-345dfe71d128",
   "metadata": {},
   "outputs": [
    {
     "name": "stdout",
     "output_type": "stream",
     "text": [
      "[INFO] './data/master_character_json.json' ALREADY EXISTS! SKIP KEY COLLECTION!\n"
     ]
    }
   ],
   "source": [
    "all_keys = set()\n",
    "master_character_json_path = './data/master_character_json.json'\n",
    "\n",
    "try:\n",
    "    if os.path.exists(master_character_json_path):\n",
    "        print(f\"[INFO] '{master_character_json_path}' ALREADY EXISTS! SKIP KEY COLLECTION!\")\n",
    "    else:\n",
    "        for character_json_filename in tqdm(os.listdir(character_json_path)):\n",
    "            character_json_filepath = os.path.join(character_json_path, character_json_filename)\n",
    "        \n",
    "            with open(character_json_filepath) as character_json_file:\n",
    "                character_data = json.load(character_json_file)\n",
    "                collect_json_keys(character_data, all_keys)\n",
    "                \n",
    "        print('ALL KEYS COLLECTED!')\n",
    "    \n",
    "except Exception as e:\n",
    "    print(f\"[ERROR] {e}\")"
   ]
  },
  {
   "cell_type": "code",
   "execution_count": 5,
   "id": "88557133-0795-48b9-a366-c0f09898bb57",
   "metadata": {},
   "outputs": [
    {
     "name": "stdout",
     "output_type": "stream",
     "text": [
      "[INFO] './data/master_character_json.json' ALREADY EXISTS! SKIP JSON CREATION!\n"
     ]
    }
   ],
   "source": [
    "master_character_dictionary = {key: 0 for key in all_keys}\n",
    "\n",
    "if os.path.exists(master_character_json_path):\n",
    "    print(f\"[INFO] '{master_character_json_path}' ALREADY EXISTS! SKIP JSON CREATION!\")\n",
    "else:\n",
    "    with open(master_character_json_path, 'w') as master_character_json:\n",
    "        json.dump(master_character_dictionary, master_character_json)"
   ]
  },
  {
   "cell_type": "code",
   "execution_count": 6,
   "id": "73bf1d86-d038-41b1-b032-bccb0cef68ee",
   "metadata": {},
   "outputs": [],
   "source": [
    "def populate_character_json(character_data, master_character_json, parent_key='', flat_character_data=None):\n",
    "    if flat_character_data is None:\n",
    "        flat_character_data = master_character_json\n",
    "    \n",
    "    if isinstance(character_data, dict):\n",
    "        for key, value in character_data.items():\n",
    "            new_key = f\"{parent_key}.{key}\" if parent_key != '' else key\n",
    "            if not (new_key.endswith('id') or new_key.endswith('icon') or new_key.endswith('passiveTreeUrl')):\n",
    "                populate_character_json(value, master_character_json, new_key, flat_character_data)\n",
    "            \n",
    "    elif isinstance(character_data, list):\n",
    "        for index, element in enumerate(character_data):\n",
    "            new_key = f\"{parent_key}[{index}]\"\n",
    "            if not (new_key.endswith('id') or new_key.endswith('icon') or new_key.endswith('passiveTreeUrl')):\n",
    "                populate_character_json(element, master_character_json, new_key, flat_character_data)\n",
    "            \n",
    "    else:\n",
    "        if isinstance(character_data, bool):\n",
    "            if flat_character_data[parent_key] == 0:\n",
    "                flat_character_data[parent_key] = character_data\n",
    "\n",
    "        elif isinstance(character_data, (int, float)):\n",
    "            if flat_character_data[parent_key] == 0:\n",
    "                flat_character_data[parent_key] = character_data\n",
    "            else:\n",
    "                flat_character_data[parent_key] += character_data\n",
    "        \n",
    "        elif isinstance(character_data, str):\n",
    "            if re.search(r'\\d+', character_data):\n",
    "                extracted_values = list(map(int, re.findall(r'\\d+', character_data)))\n",
    "                generalized_text = re.sub(r'\\d+', '#', character_data)\n",
    "                \n",
    "                if len(extracted_values) == 1:\n",
    "                    new_value = extracted_values[0]\n",
    "                else:\n",
    "                    new_value = sum(extracted_values) / len(extracted_values)\n",
    "\n",
    "                if flat_character_data[generalized_text] == 0:\n",
    "                    flat_character_data[generalized_text] = new_value\n",
    "                else:\n",
    "                    flat_character_data[generalized_text] += new_value\n",
    "                \n",
    "            else:\n",
    "                if flat_character_data[character_data] == 0:\n",
    "                    flat_character_data[character_data] = 1\n",
    "                else:\n",
    "                    flat_character_data[character_data] += 1\n",
    "\n",
    "    return flat_character_data"
   ]
  },
  {
   "cell_type": "code",
   "execution_count": 7,
   "id": "2ea74b03-39ae-48df-9c06-9009f79f2d6c",
   "metadata": {},
   "outputs": [
    {
     "name": "stderr",
     "output_type": "stream",
     "text": [
      "100%|██████████████████████████████████████████████████████████████████████████████████████████████████████████████████████████████████████████████████| 110466/110466 [7:42:35<00:00,  3.98it/s]"
     ]
    },
    {
     "name": "stdout",
     "output_type": "stream",
     "text": [
      "ALL FLAT JSON CREATED!\n"
     ]
    },
    {
     "name": "stderr",
     "output_type": "stream",
     "text": [
      "\n"
     ]
    }
   ],
   "source": [
    "flat_character_json_path = './data/flat_characters'\n",
    "    \n",
    "try:\n",
    "    if os.path.exists(flat_character_json_path):\n",
    "        print(f\"[INFO] '{flat_character_json_path}' ALREADY EXISTS! SKIP FLATTENING!\")\n",
    "    else:\n",
    "        os.makedirs(flat_character_json_path, exist_ok=True)\n",
    "\n",
    "        with open(master_character_json_path, 'r') as master_character_json_file:\n",
    "            master_character_json = json.load(master_character_json_file)\n",
    "    \n",
    "        for character_json_filename in tqdm(os.listdir(character_json_path)):\n",
    "            character_json_filepath = os.path.join(character_json_path, character_json_filename)\n",
    "        \n",
    "            with open(character_json_filepath) as character_json_file:\n",
    "                character_data = json.load(character_json_file)\n",
    "                new_character_data = populate_character_json(character_data, master_character_json)\n",
    "\n",
    "                flat_character_json_filename = \"flat_\" + character_json_filename\n",
    "                flat_character_json_filepath = os.path.join(flat_character_json_path, flat_character_json_filename)\n",
    "            \n",
    "                with open(flat_character_json_filepath, \"w\") as json_file:\n",
    "                    json.dump(new_character_data, json_file)\n",
    "                    \n",
    "        print('ALL FLAT JSON CREATED!')\n",
    "        \n",
    "except Exception as e:\n",
    "    print(f\"[ERROR] {e}\")"
   ]
  },
  {
   "cell_type": "code",
   "execution_count": null,
   "id": "5fed5889-a601-4723-b6ce-f759758e0475",
   "metadata": {},
   "outputs": [],
   "source": []
  }
 ],
 "metadata": {
  "kernelspec": {
   "display_name": "Python 3 (ipykernel)",
   "language": "python",
   "name": "python3"
  },
  "language_info": {
   "codemirror_mode": {
    "name": "ipython",
    "version": 3
   },
   "file_extension": ".py",
   "mimetype": "text/x-python",
   "name": "python",
   "nbconvert_exporter": "python",
   "pygments_lexer": "ipython3",
   "version": "3.12.3"
  }
 },
 "nbformat": 4,
 "nbformat_minor": 5
}
