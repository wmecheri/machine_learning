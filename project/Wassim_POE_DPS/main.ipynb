{
 "cells": [
  {
   "cell_type": "code",
   "execution_count": 2,
   "id": "80f214bb-41ff-481e-ba04-02eba9993d87",
   "metadata": {},
   "outputs": [],
   "source": [
    "import zipfile\n",
    "import os\n",
    "import pandas as pd\n",
    "import json\n",
    "from tqdm import tqdm\n",
    "from IPython.display import display"
   ]
  },
  {
   "cell_type": "code",
   "execution_count": 6,
   "id": "76ff7bc8-32df-4f5e-bd49-342ad0e91a1c",
   "metadata": {},
   "outputs": [],
   "source": [
    "root_directory = \"./\""
   ]
  },
  {
   "cell_type": "code",
   "execution_count": null,
   "id": "d93cf63e-c37e-4d40-9934-cc0375f3e5c0",
   "metadata": {},
   "outputs": [],
   "source": [
    "zip_path = os.path.join(root_directory, 'data/characters-2024-11-05.zip')\n",
    "target_directory = os.path.join(root_directory, 'data/')\n",
    "\n",
    "try:\n",
    "    os.makedirs(target_directory, exist_ok=True) # Create target directory if it doesn't exist\n",
    "\n",
    "    # Open the .zip file and extract all its contents\n",
    "    with zipfile.ZipFile(zip_path, 'r') as zip_file:\n",
    "        zip_file.extractall(target_directory)\n",
    "    \n",
    "    print('Extraction OK') # JSON files are in characters\n",
    "        \n",
    "# Error\n",
    "except Exception as e:\n",
    "    print(f\"[ERROR] {e}\")"
   ]
  },
  {
   "cell_type": "code",
   "execution_count": 5,
   "id": "a7efca7a-19f5-413d-bdce-896935f22455",
   "metadata": {},
   "outputs": [],
   "source": [
    "def collect_json_keys(character_data, all_keys, parent_key=''):\n",
    "    if isinstance(character_data, dict):\n",
    "        for key, value in character_data.items():\n",
    "            new_key = f\"{parent_key}.{key}\" if parent_key != '' else key\n",
    "            collect_json_keys(value, all_keys, new_key)\n",
    "            \n",
    "    elif isinstance(character_data, list):\n",
    "        for index, element in enumerate(character_data):\n",
    "            new_key = f\"{parent_key}[{index}]\"\n",
    "            collect_json_keys(element, all_keys, new_key)\n",
    "            \n",
    "    else:\n",
    "        all_keys.add(parent_key)"
   ]
  },
  {
   "cell_type": "code",
   "execution_count": 11,
   "id": "adba817a-5302-49f3-a0f9-6d8e23842a8c",
   "metadata": {},
   "outputs": [
    {
     "name": "stderr",
     "output_type": "stream",
     "text": [
      "100%|███████████████████████████████████████████████████████████████████████████████████████████████████████████████████████████████████████████████████| 110466/110466 [03:15<00:00, 565.40it/s]"
     ]
    },
    {
     "name": "stdout",
     "output_type": "stream",
     "text": [
      "ALL KEYS COLLECTED!\n"
     ]
    },
    {
     "name": "stderr",
     "output_type": "stream",
     "text": [
      "\n"
     ]
    }
   ],
   "source": [
    "character_json_path = './data/characters'\n",
    "all_keys = set()\n",
    "\n",
    "for character_json_filename in tqdm(os.listdir(character_json_path)):\n",
    "    character_json_filepath = os.path.join(character_json_path, character_json_filename)\n",
    "        \n",
    "    try:\n",
    "        with open(character_json_filepath) as character_json_file:\n",
    "            character_data = json.load(character_json_file)\n",
    "            collect_json_keys(character_data, all_keys)\n",
    "    \n",
    "    except Exception as e:\n",
    "        print(f\"[ERROR] {e}\")\n",
    "\n",
    "print('ALL KEYS COLLECTED!')"
   ]
  },
  {
   "cell_type": "code",
   "execution_count": 13,
   "id": "a9c844b5-0908-433c-8824-0b294f459044",
   "metadata": {},
   "outputs": [],
   "source": [
    "master_character_json = {key: None for key in all_keys}"
   ]
  },
  {
   "cell_type": "code",
   "execution_count": 18,
   "id": "73bf1d86-d038-41b1-b032-bccb0cef68ee",
   "metadata": {},
   "outputs": [],
   "source": [
    "def populate_character_json(character_data, parent_key='', flat_character_data=None):\n",
    "    if flat_character_data is None:\n",
    "        flat_character_data = master_character_json\n",
    "        \n",
    "    if isinstance(character_data, dict):\n",
    "        for key, value in character_data.items():\n",
    "            new_key = f\"{parent_key}.{key}\" if parent_key != '' else key\n",
    "            populate_character_json(value, new_key, flat_character_data)\n",
    "            \n",
    "    elif isinstance(character_data, list):\n",
    "        for index, element in enumerate(character_data):\n",
    "            new_key = f\"{parent_key}[{index}]\"\n",
    "            populate_character_json(element, new_key, flat_character_data)\n",
    "            \n",
    "    else:\n",
    "        flat_character_data[parent_key] = character_data\n",
    "\n",
    "    return flat_character_data"
   ]
  },
  {
   "cell_type": "code",
   "execution_count": 25,
   "id": "2ea74b03-39ae-48df-9c06-9009f79f2d6c",
   "metadata": {},
   "outputs": [
    {
     "name": "stderr",
     "output_type": "stream",
     "text": [
      "100%|████████████████████████████████████████████████████████████████████████████████████████████████████████████████████████████████████████████████████| 110466/110466 [21:59<00:00, 83.74it/s]"
     ]
    },
    {
     "name": "stdout",
     "output_type": "stream",
     "text": [
      "ALL FLAT JSON CREATED!\n"
     ]
    },
    {
     "name": "stderr",
     "output_type": "stream",
     "text": [
      "\n"
     ]
    }
   ],
   "source": [
    "flat_character_json_path = './data/flat_characters'\n",
    "\n",
    "for character_json_filename in tqdm(os.listdir(character_json_path)):\n",
    "    character_json_filepath = os.path.join(character_json_path, character_json_filename)\n",
    "        \n",
    "    try:\n",
    "        with open(character_json_filepath) as character_json_file:\n",
    "            character_data = json.load(character_json_file)\n",
    "            new_character_data = populate_character_json(character_data)\n",
    "\n",
    "            flat_character_json_filename = \"flat_\" + character_json_filename\n",
    "            flat_character_json_filepath = os.path.join(flat_character_json_path, flat_character_json_filename)\n",
    "            \n",
    "            with open(flat_character_json_filepath, \"w\") as json_file:\n",
    "                json.dump(new_character_data, json_file)\n",
    "    except Exception as e:\n",
    "        print(f\"[ERROR] {e}\")\n",
    "\n",
    "print('ALL FLAT JSON CREATED!')"
   ]
  }
 ],
 "metadata": {
  "kernelspec": {
   "display_name": "Python 3 (ipykernel)",
   "language": "python",
   "name": "python3"
  },
  "language_info": {
   "codemirror_mode": {
    "name": "ipython",
    "version": 3
   },
   "file_extension": ".py",
   "mimetype": "text/x-python",
   "name": "python",
   "nbconvert_exporter": "python",
   "pygments_lexer": "ipython3",
   "version": "3.12.3"
  }
 },
 "nbformat": 4,
 "nbformat_minor": 5
}
