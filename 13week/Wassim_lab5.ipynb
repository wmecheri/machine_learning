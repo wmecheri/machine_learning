{
 "cells": [
  {
   "cell_type": "markdown",
   "id": "4d4829b1-695b-4102-b193-2a567a2a7ed7",
   "metadata": {},
   "source": [
    "# Wassim Mecheri - Lab 5\n",
    "# **Regression Model Comparison**\n",
    "\n",
    "Objective:\n",
    "In this lab, you will use and compare multiple regression models to predict insurance charges (the outcome variable) based on the dataset available at Kaggle: Insurance Dataset. This exercise will help you understand the differences in model performance for regression tasks using a variety of approaches."
   ]
  },
  {
   "cell_type": "markdown",
   "id": "ce58253f-4b90-408a-be07-6034a68b5d44",
   "metadata": {},
   "source": [
    "# **0 Loading Libraries**"
   ]
  },
  {
   "cell_type": "code",
   "execution_count": 1,
   "id": "e7b2cca0-2717-4062-9dc4-bb392a9aa288",
   "metadata": {},
   "outputs": [],
   "source": [
    "from IPython.display import display, Markdown\n",
    "\n",
    "import pandas as pd\n",
    "import numpy as np\n",
    "from sklearn.model_selection import train_test_split\n",
    "\n",
    "from sklearn.linear_model import LinearRegression, Lasso\n",
    "from sklearn.neural_network import MLPRegressor\n",
    "from sklearn.svm import SVR\n",
    "from sklearn.ensemble import GradientBoostingRegressor\n",
    "\n",
    "from sklearn.metrics import mean_squared_error"
   ]
  },
  {
   "cell_type": "markdown",
   "id": "a60e4745-30ae-4354-aa58-5bd38814fb0a",
   "metadata": {},
   "source": [
    "# **1 Data Preparation**"
   ]
  },
  {
   "cell_type": "code",
   "execution_count": 2,
   "id": "ff0fcbca-8d1d-4d0d-8a6d-c8a75e6adab3",
   "metadata": {},
   "outputs": [
    {
     "data": {
      "text/markdown": [
       "## **1.1 Load Dataset**"
      ],
      "text/plain": [
       "<IPython.core.display.Markdown object>"
      ]
     },
     "metadata": {},
     "output_type": "display_data"
    },
    {
     "data": {
      "text/markdown": [
       "**Sample of df**"
      ],
      "text/plain": [
       "<IPython.core.display.Markdown object>"
      ]
     },
     "metadata": {},
     "output_type": "display_data"
    },
    {
     "data": {
      "text/html": [
       "<div>\n",
       "<style scoped>\n",
       "    .dataframe tbody tr th:only-of-type {\n",
       "        vertical-align: middle;\n",
       "    }\n",
       "\n",
       "    .dataframe tbody tr th {\n",
       "        vertical-align: top;\n",
       "    }\n",
       "\n",
       "    .dataframe thead th {\n",
       "        text-align: right;\n",
       "    }\n",
       "</style>\n",
       "<table border=\"1\" class=\"dataframe\">\n",
       "  <thead>\n",
       "    <tr style=\"text-align: right;\">\n",
       "      <th></th>\n",
       "      <th>age</th>\n",
       "      <th>sex</th>\n",
       "      <th>bmi</th>\n",
       "      <th>children</th>\n",
       "      <th>smoker</th>\n",
       "      <th>region</th>\n",
       "      <th>charges</th>\n",
       "    </tr>\n",
       "  </thead>\n",
       "  <tbody>\n",
       "    <tr>\n",
       "      <th>0</th>\n",
       "      <td>19</td>\n",
       "      <td>female</td>\n",
       "      <td>27.900</td>\n",
       "      <td>0</td>\n",
       "      <td>yes</td>\n",
       "      <td>southwest</td>\n",
       "      <td>16884.92400</td>\n",
       "    </tr>\n",
       "    <tr>\n",
       "      <th>1</th>\n",
       "      <td>18</td>\n",
       "      <td>male</td>\n",
       "      <td>33.770</td>\n",
       "      <td>1</td>\n",
       "      <td>no</td>\n",
       "      <td>southeast</td>\n",
       "      <td>1725.55230</td>\n",
       "    </tr>\n",
       "    <tr>\n",
       "      <th>2</th>\n",
       "      <td>28</td>\n",
       "      <td>male</td>\n",
       "      <td>33.000</td>\n",
       "      <td>3</td>\n",
       "      <td>no</td>\n",
       "      <td>southeast</td>\n",
       "      <td>4449.46200</td>\n",
       "    </tr>\n",
       "    <tr>\n",
       "      <th>3</th>\n",
       "      <td>33</td>\n",
       "      <td>male</td>\n",
       "      <td>22.705</td>\n",
       "      <td>0</td>\n",
       "      <td>no</td>\n",
       "      <td>northwest</td>\n",
       "      <td>21984.47061</td>\n",
       "    </tr>\n",
       "    <tr>\n",
       "      <th>4</th>\n",
       "      <td>32</td>\n",
       "      <td>male</td>\n",
       "      <td>28.880</td>\n",
       "      <td>0</td>\n",
       "      <td>no</td>\n",
       "      <td>northwest</td>\n",
       "      <td>3866.85520</td>\n",
       "    </tr>\n",
       "  </tbody>\n",
       "</table>\n",
       "</div>"
      ],
      "text/plain": [
       "   age     sex     bmi  children smoker     region      charges\n",
       "0   19  female  27.900         0    yes  southwest  16884.92400\n",
       "1   18    male  33.770         1     no  southeast   1725.55230\n",
       "2   28    male  33.000         3     no  southeast   4449.46200\n",
       "3   33    male  22.705         0     no  northwest  21984.47061\n",
       "4   32    male  28.880         0     no  northwest   3866.85520"
      ]
     },
     "metadata": {},
     "output_type": "display_data"
    },
    {
     "data": {
      "text/markdown": [
       "**Initial shape**: (1338, 7)"
      ],
      "text/plain": [
       "<IPython.core.display.Markdown object>"
      ]
     },
     "metadata": {},
     "output_type": "display_data"
    },
    {
     "data": {
      "text/markdown": [
       "## **1.2 Handlind missing values**"
      ],
      "text/plain": [
       "<IPython.core.display.Markdown object>"
      ]
     },
     "metadata": {},
     "output_type": "display_data"
    },
    {
     "data": {
      "text/markdown": [
       "**Missing values removed**: (1338, 7)"
      ],
      "text/plain": [
       "<IPython.core.display.Markdown object>"
      ]
     },
     "metadata": {},
     "output_type": "display_data"
    },
    {
     "data": {
      "text/markdown": [
       "## **1.3 Encoding Categorical Variable**"
      ],
      "text/plain": [
       "<IPython.core.display.Markdown object>"
      ]
     },
     "metadata": {},
     "output_type": "display_data"
    },
    {
     "data": {
      "text/html": [
       "<div>\n",
       "<style scoped>\n",
       "    .dataframe tbody tr th:only-of-type {\n",
       "        vertical-align: middle;\n",
       "    }\n",
       "\n",
       "    .dataframe tbody tr th {\n",
       "        vertical-align: top;\n",
       "    }\n",
       "\n",
       "    .dataframe thead th {\n",
       "        text-align: right;\n",
       "    }\n",
       "</style>\n",
       "<table border=\"1\" class=\"dataframe\">\n",
       "  <thead>\n",
       "    <tr style=\"text-align: right;\">\n",
       "      <th></th>\n",
       "      <th>age</th>\n",
       "      <th>sex</th>\n",
       "      <th>bmi</th>\n",
       "      <th>children</th>\n",
       "      <th>smoker</th>\n",
       "      <th>charges</th>\n",
       "      <th>region_northeast</th>\n",
       "      <th>region_northwest</th>\n",
       "      <th>region_southeast</th>\n",
       "      <th>region_southwest</th>\n",
       "    </tr>\n",
       "  </thead>\n",
       "  <tbody>\n",
       "    <tr>\n",
       "      <th>0</th>\n",
       "      <td>19</td>\n",
       "      <td>1</td>\n",
       "      <td>27.900</td>\n",
       "      <td>0</td>\n",
       "      <td>1</td>\n",
       "      <td>16884.92400</td>\n",
       "      <td>False</td>\n",
       "      <td>False</td>\n",
       "      <td>False</td>\n",
       "      <td>True</td>\n",
       "    </tr>\n",
       "    <tr>\n",
       "      <th>1</th>\n",
       "      <td>18</td>\n",
       "      <td>0</td>\n",
       "      <td>33.770</td>\n",
       "      <td>1</td>\n",
       "      <td>0</td>\n",
       "      <td>1725.55230</td>\n",
       "      <td>False</td>\n",
       "      <td>False</td>\n",
       "      <td>True</td>\n",
       "      <td>False</td>\n",
       "    </tr>\n",
       "    <tr>\n",
       "      <th>2</th>\n",
       "      <td>28</td>\n",
       "      <td>0</td>\n",
       "      <td>33.000</td>\n",
       "      <td>3</td>\n",
       "      <td>0</td>\n",
       "      <td>4449.46200</td>\n",
       "      <td>False</td>\n",
       "      <td>False</td>\n",
       "      <td>True</td>\n",
       "      <td>False</td>\n",
       "    </tr>\n",
       "    <tr>\n",
       "      <th>3</th>\n",
       "      <td>33</td>\n",
       "      <td>0</td>\n",
       "      <td>22.705</td>\n",
       "      <td>0</td>\n",
       "      <td>0</td>\n",
       "      <td>21984.47061</td>\n",
       "      <td>False</td>\n",
       "      <td>True</td>\n",
       "      <td>False</td>\n",
       "      <td>False</td>\n",
       "    </tr>\n",
       "    <tr>\n",
       "      <th>4</th>\n",
       "      <td>32</td>\n",
       "      <td>0</td>\n",
       "      <td>28.880</td>\n",
       "      <td>0</td>\n",
       "      <td>0</td>\n",
       "      <td>3866.85520</td>\n",
       "      <td>False</td>\n",
       "      <td>True</td>\n",
       "      <td>False</td>\n",
       "      <td>False</td>\n",
       "    </tr>\n",
       "  </tbody>\n",
       "</table>\n",
       "</div>"
      ],
      "text/plain": [
       "   age sex     bmi  children smoker      charges  region_northeast  \\\n",
       "0   19   1  27.900         0      1  16884.92400             False   \n",
       "1   18   0  33.770         1      0   1725.55230             False   \n",
       "2   28   0  33.000         3      0   4449.46200             False   \n",
       "3   33   0  22.705         0      0  21984.47061             False   \n",
       "4   32   0  28.880         0      0   3866.85520             False   \n",
       "\n",
       "   region_northwest  region_southeast  region_southwest  \n",
       "0             False             False              True  \n",
       "1             False              True             False  \n",
       "2             False              True             False  \n",
       "3              True             False             False  \n",
       "4              True             False             False  "
      ]
     },
     "metadata": {},
     "output_type": "display_data"
    },
    {
     "data": {
      "text/markdown": [
       "## **1.4 Data Splitting**"
      ],
      "text/plain": [
       "<IPython.core.display.Markdown object>"
      ]
     },
     "metadata": {},
     "output_type": "display_data"
    },
    {
     "data": {
      "text/markdown": [
       "**Shapes after splitting:**"
      ],
      "text/plain": [
       "<IPython.core.display.Markdown object>"
      ]
     },
     "metadata": {},
     "output_type": "display_data"
    },
    {
     "data": {
      "text/markdown": [
       "- X_train shape: (1070, 9)"
      ],
      "text/plain": [
       "<IPython.core.display.Markdown object>"
      ]
     },
     "metadata": {},
     "output_type": "display_data"
    },
    {
     "data": {
      "text/markdown": [
       "- X_test shape: (268, 9)"
      ],
      "text/plain": [
       "<IPython.core.display.Markdown object>"
      ]
     },
     "metadata": {},
     "output_type": "display_data"
    },
    {
     "data": {
      "text/markdown": [
       "- y_train shape: (1070,)"
      ],
      "text/plain": [
       "<IPython.core.display.Markdown object>"
      ]
     },
     "metadata": {},
     "output_type": "display_data"
    },
    {
     "data": {
      "text/markdown": [
       "- y_test shape: (268,)"
      ],
      "text/plain": [
       "<IPython.core.display.Markdown object>"
      ]
     },
     "metadata": {},
     "output_type": "display_data"
    }
   ],
   "source": [
    "display(Markdown('## **1.1 Load Dataset**'))\n",
    "df = pd.read_csv('./insurance.csv')\n",
    "display(Markdown('**Sample of df**'))\n",
    "display(df.head())\n",
    "display(Markdown(f'**Initial shape**: {df.shape}'))\n",
    "\n",
    "display(Markdown('## **1.2 Handlind missing values**'))\n",
    "clean_df = df.dropna()\n",
    "display(Markdown(f'**Missing values removed**: {clean_df.shape}'))\n",
    "\n",
    "display(Markdown('## **1.3 Encoding Categorical Variable**'))\n",
    "clean_df.loc[clean_df['sex']=='male','sex']=0\n",
    "clean_df.loc[clean_df['sex']=='female','sex']=1\n",
    "clean_df.loc[clean_df['smoker']=='no','smoker']=0\n",
    "clean_df.loc[clean_df['smoker']=='yes','smoker']=1\n",
    "encoded_df = pd.get_dummies(clean_df, columns=['region'])\n",
    "display(encoded_df.head())\n",
    "\n",
    "display(Markdown('## **1.4 Data Splitting**'))\n",
    "y = np.array(encoded_df['charges'])\n",
    "X = np.array(encoded_df.drop(columns='charges'))\n",
    "X_train, X_test, y_train, y_test = train_test_split(X, y, test_size=0.2, random_state=0)\n",
    "display(Markdown(f'**Shapes after splitting:**'))\n",
    "display(Markdown(f'- X_train shape: {X_train.shape}'))\n",
    "display(Markdown(f'- X_test shape: {X_test.shape}'))\n",
    "display(Markdown(f'- y_train shape: {y_train.shape}'))\n",
    "display(Markdown(f'- y_test shape: {y_test.shape}'))"
   ]
  },
  {
   "cell_type": "markdown",
   "id": "190e56c3-e3b7-4934-9d6e-ade9dfa2a0a4",
   "metadata": {},
   "source": [
    "# **2 Fitting the Models**"
   ]
  },
  {
   "cell_type": "code",
   "execution_count": 3,
   "id": "ce4f3545-0424-4d7b-ac32-bdddf1b55c08",
   "metadata": {},
   "outputs": [],
   "source": [
    "model = LinearRegression()\n",
    "model.fit(X_train, y_train)\n",
    "y_pred_lr = model.predict(X_test)\n",
    "\n",
    "lasso = Lasso(alpha = 10)\n",
    "lasso.fit(X_train, y_train)\n",
    "y_pred_lasso = lasso.predict(X_test)\n",
    "\n",
    "mlp_reg = MLPRegressor(hidden_layer_sizes=(50, 30), max_iter=5000, random_state=0)\n",
    "mlp_reg.fit(X_train, y_train)\n",
    "y_pred_mlp = mlp_reg.predict(X_test)\n",
    "\n",
    "svr = SVR(kernel='rbf', C=100, gamma=0.1, epsilon=0.1)\n",
    "svr.fit(X_train, y_train)\n",
    "y_pred_svr = svr.predict(X_test)\n",
    "\n",
    "gb_reg = GradientBoostingRegressor(n_estimators=100, learning_rate=0.1, random_state=0)\n",
    "gb_reg.fit(X_train, y_train)\n",
    "y_pred_gb = gb_reg.predict(X_test)"
   ]
  },
  {
   "cell_type": "markdown",
   "id": "5a163725-4b37-4451-a951-fa8384e05007",
   "metadata": {},
   "source": [
    "# **3 Evaluation Metrics**"
   ]
  },
  {
   "cell_type": "code",
   "execution_count": 4,
   "id": "c61e54ad-be79-483b-bff6-701856537ff5",
   "metadata": {},
   "outputs": [
    {
     "data": {
      "text/markdown": [
       "**MSE results**"
      ],
      "text/plain": [
       "<IPython.core.display.Markdown object>"
      ]
     },
     "metadata": {},
     "output_type": "display_data"
    },
    {
     "data": {
      "text/markdown": [
       "- **Linear Regression:** 31827950.23"
      ],
      "text/plain": [
       "<IPython.core.display.Markdown object>"
      ]
     },
     "metadata": {},
     "output_type": "display_data"
    },
    {
     "data": {
      "text/markdown": [
       "- **Lasso Regression:** 31884809.23"
      ],
      "text/plain": [
       "<IPython.core.display.Markdown object>"
      ]
     },
     "metadata": {},
     "output_type": "display_data"
    },
    {
     "data": {
      "text/markdown": [
       "- **MLP Regressor:** 22572526.54"
      ],
      "text/plain": [
       "<IPython.core.display.Markdown object>"
      ]
     },
     "metadata": {},
     "output_type": "display_data"
    },
    {
     "data": {
      "text/markdown": [
       "- **Support Vector Regression:** 173060721.83"
      ],
      "text/plain": [
       "<IPython.core.display.Markdown object>"
      ]
     },
     "metadata": {},
     "output_type": "display_data"
    },
    {
     "data": {
      "text/markdown": [
       "- **Gradient Boosting Regression:** 16419381.05"
      ],
      "text/plain": [
       "<IPython.core.display.Markdown object>"
      ]
     },
     "metadata": {},
     "output_type": "display_data"
    }
   ],
   "source": [
    "display(Markdown('**MSE results**'))\n",
    "mse_lr = mean_squared_error(y_test, y_pred_lr)\n",
    "mse_lasso = mean_squared_error(y_test, y_pred_lasso)\n",
    "mse_mlp = mean_squared_error(y_test, y_pred_mlp)\n",
    "mse_svr = mean_squared_error(y_test, y_pred_svr)\n",
    "mse_gb = mean_squared_error(y_test, y_pred_gb)\n",
    "display(Markdown(f'- **Linear Regression:** {mse_lr:.2f}'))\n",
    "display(Markdown(f'- **Lasso Regression:** {mse_lasso:.2f}'))\n",
    "display(Markdown(f'- **MLP Regressor:** {mse_mlp:.2f}'))\n",
    "display(Markdown(f'- **Support Vector Regression:** {mse_svr:.2f}'))\n",
    "display(Markdown(f'- **Gradient Boosting Regression:** {mse_gb:.2f}'))"
   ]
  },
  {
   "cell_type": "markdown",
   "id": "3c780673-5858-48df-9bcd-6b7de7c4ee68",
   "metadata": {},
   "source": [
    "**Comparison and Analysis**  \n",
    "The models used in this lab struggled to predict insurance charges, all showing extremely high MSE. Despite the high error rates, Gradient Boosting appears to be the best model for this task with our data, while Lasso Regression performed the worst, followed closely by Linear Regression.  \n",
    "These poor results may be due to missing important features in our data, which could help the model capture complex patterns and relationships. Additionally, we could try adjusting the parameters of our models, as we did in Lab 2, to find the best settings and reduce the MSE."
   ]
  }
 ],
 "metadata": {
  "kernelspec": {
   "display_name": "Python 3 (ipykernel)",
   "language": "python",
   "name": "python3"
  },
  "language_info": {
   "codemirror_mode": {
    "name": "ipython",
    "version": 3
   },
   "file_extension": ".py",
   "mimetype": "text/x-python",
   "name": "python",
   "nbconvert_exporter": "python",
   "pygments_lexer": "ipython3",
   "version": "3.12.3"
  }
 },
 "nbformat": 4,
 "nbformat_minor": 5
}
