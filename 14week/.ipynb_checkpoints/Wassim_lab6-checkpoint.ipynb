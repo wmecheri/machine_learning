{
 "cells": [
  {
   "cell_type": "markdown",
   "id": "1ae5f95f-925d-4fa1-9afb-bd7ef02a233d",
   "metadata": {},
   "source": [
    "# Wassim Mecheri Lab 6\n",
    "# **Prediction with Neural Network and Logistic Regression**\n",
    "\n",
    "Objective:  \n",
    "In this lab, you will use and compare a neural network and logistic regression to predict the status of breast cancer patients (alive or dead) based on the dataset available at Kaggle: Breast Cancer Dataset. This exercise will help you understand model performance for binary classification tasks.\n",
    "\n",
    "Outcome Variable:  \n",
    "Status: Label \"Alive\" as 0 and \"Dead\" as 1.\n",
    "\n",
    "Models to Compare:\n",
    "- Neural Network (using MLPClassifier)\n",
    "- Logistic Regression"
   ]
  },
  {
   "cell_type": "markdown",
   "id": "08ecb479-ca70-4645-9f6f-a081e1876945",
   "metadata": {},
   "source": [
    "# **0 Loading Libraries**"
   ]
  },
  {
   "cell_type": "code",
   "execution_count": 1,
   "id": "caf2a30a-17cb-45fa-8785-a23836f43e4a",
   "metadata": {},
   "outputs": [],
   "source": [
    "from IPython.display import display, Markdown\n",
    "\n",
    "import pandas as pd\n",
    "import numpy as np\n",
    "from sklearn.model_selection import train_test_split\n",
    "\n",
    "from sklearn.neural_network import MLPClassifier\n",
    "from sklearn.linear_model import LogisticRegression\n",
    "\n",
    "import matplotlib.pyplot as plt\n",
    "from sklearn.metrics import ConfusionMatrixDisplay, accuracy_score, precision_score, recall_score, f1_score"
   ]
  },
  {
   "cell_type": "markdown",
   "id": "c2c1c0a0-f2a7-46b1-894c-5a8799c1f1f6",
   "metadata": {},
   "source": [
    "# **1 Data Preparation** "
   ]
  },
  {
   "cell_type": "code",
   "execution_count": 2,
   "id": "69080bf2-b3c0-4abd-bbd7-c03720b714da",
   "metadata": {},
   "outputs": [
    {
     "data": {
      "text/markdown": [
       "## **1.1 Load Dataset**"
      ],
      "text/plain": [
       "<IPython.core.display.Markdown object>"
      ]
     },
     "metadata": {},
     "output_type": "display_data"
    },
    {
     "data": {
      "text/markdown": [
       "**Sample of df**"
      ],
      "text/plain": [
       "<IPython.core.display.Markdown object>"
      ]
     },
     "metadata": {},
     "output_type": "display_data"
    },
    {
     "data": {
      "text/html": [
       "<div>\n",
       "<style scoped>\n",
       "    .dataframe tbody tr th:only-of-type {\n",
       "        vertical-align: middle;\n",
       "    }\n",
       "\n",
       "    .dataframe tbody tr th {\n",
       "        vertical-align: top;\n",
       "    }\n",
       "\n",
       "    .dataframe thead th {\n",
       "        text-align: right;\n",
       "    }\n",
       "</style>\n",
       "<table border=\"1\" class=\"dataframe\">\n",
       "  <thead>\n",
       "    <tr style=\"text-align: right;\">\n",
       "      <th></th>\n",
       "      <th>Age</th>\n",
       "      <th>Race</th>\n",
       "      <th>Marital Status</th>\n",
       "      <th>T Stage</th>\n",
       "      <th>N Stage</th>\n",
       "      <th>6th Stage</th>\n",
       "      <th>differentiate</th>\n",
       "      <th>Grade</th>\n",
       "      <th>A Stage</th>\n",
       "      <th>Tumor Size</th>\n",
       "      <th>Estrogen Status</th>\n",
       "      <th>Progesterone Status</th>\n",
       "      <th>Regional Node Examined</th>\n",
       "      <th>Reginol Node Positive</th>\n",
       "      <th>Survival Months</th>\n",
       "      <th>Status</th>\n",
       "    </tr>\n",
       "  </thead>\n",
       "  <tbody>\n",
       "    <tr>\n",
       "      <th>0</th>\n",
       "      <td>68</td>\n",
       "      <td>White</td>\n",
       "      <td>Married</td>\n",
       "      <td>T1</td>\n",
       "      <td>N1</td>\n",
       "      <td>IIA</td>\n",
       "      <td>Poorly differentiated</td>\n",
       "      <td>3</td>\n",
       "      <td>Regional</td>\n",
       "      <td>4</td>\n",
       "      <td>Positive</td>\n",
       "      <td>Positive</td>\n",
       "      <td>24</td>\n",
       "      <td>1</td>\n",
       "      <td>60</td>\n",
       "      <td>Alive</td>\n",
       "    </tr>\n",
       "    <tr>\n",
       "      <th>1</th>\n",
       "      <td>50</td>\n",
       "      <td>White</td>\n",
       "      <td>Married</td>\n",
       "      <td>T2</td>\n",
       "      <td>N2</td>\n",
       "      <td>IIIA</td>\n",
       "      <td>Moderately differentiated</td>\n",
       "      <td>2</td>\n",
       "      <td>Regional</td>\n",
       "      <td>35</td>\n",
       "      <td>Positive</td>\n",
       "      <td>Positive</td>\n",
       "      <td>14</td>\n",
       "      <td>5</td>\n",
       "      <td>62</td>\n",
       "      <td>Alive</td>\n",
       "    </tr>\n",
       "    <tr>\n",
       "      <th>2</th>\n",
       "      <td>58</td>\n",
       "      <td>White</td>\n",
       "      <td>Divorced</td>\n",
       "      <td>T3</td>\n",
       "      <td>N3</td>\n",
       "      <td>IIIC</td>\n",
       "      <td>Moderately differentiated</td>\n",
       "      <td>2</td>\n",
       "      <td>Regional</td>\n",
       "      <td>63</td>\n",
       "      <td>Positive</td>\n",
       "      <td>Positive</td>\n",
       "      <td>14</td>\n",
       "      <td>7</td>\n",
       "      <td>75</td>\n",
       "      <td>Alive</td>\n",
       "    </tr>\n",
       "  </tbody>\n",
       "</table>\n",
       "</div>"
      ],
      "text/plain": [
       "   Age   Race Marital Status T Stage  N Stage 6th Stage  \\\n",
       "0   68  White        Married       T1      N1       IIA   \n",
       "1   50  White        Married       T2      N2      IIIA   \n",
       "2   58  White       Divorced       T3      N3      IIIC   \n",
       "\n",
       "               differentiate Grade   A Stage  Tumor Size Estrogen Status  \\\n",
       "0      Poorly differentiated     3  Regional           4        Positive   \n",
       "1  Moderately differentiated     2  Regional          35        Positive   \n",
       "2  Moderately differentiated     2  Regional          63        Positive   \n",
       "\n",
       "  Progesterone Status  Regional Node Examined  Reginol Node Positive  \\\n",
       "0            Positive                      24                      1   \n",
       "1            Positive                      14                      5   \n",
       "2            Positive                      14                      7   \n",
       "\n",
       "   Survival Months Status  \n",
       "0               60  Alive  \n",
       "1               62  Alive  \n",
       "2               75  Alive  "
      ]
     },
     "metadata": {},
     "output_type": "display_data"
    },
    {
     "data": {
      "text/markdown": [
       "**Initial shape**: (4024, 16)"
      ],
      "text/plain": [
       "<IPython.core.display.Markdown object>"
      ]
     },
     "metadata": {},
     "output_type": "display_data"
    },
    {
     "data": {
      "text/markdown": [
       "## **1.2 Handlind missing values**"
      ],
      "text/plain": [
       "<IPython.core.display.Markdown object>"
      ]
     },
     "metadata": {},
     "output_type": "display_data"
    },
    {
     "data": {
      "text/markdown": [
       "**Missing values removed**: (4024, 16)"
      ],
      "text/plain": [
       "<IPython.core.display.Markdown object>"
      ]
     },
     "metadata": {},
     "output_type": "display_data"
    },
    {
     "data": {
      "text/markdown": [
       "## **1.3 Encoding the Outcome Variable**"
      ],
      "text/plain": [
       "<IPython.core.display.Markdown object>"
      ]
     },
     "metadata": {},
     "output_type": "display_data"
    },
    {
     "data": {
      "text/html": [
       "<div>\n",
       "<style scoped>\n",
       "    .dataframe tbody tr th:only-of-type {\n",
       "        vertical-align: middle;\n",
       "    }\n",
       "\n",
       "    .dataframe tbody tr th {\n",
       "        vertical-align: top;\n",
       "    }\n",
       "\n",
       "    .dataframe thead th {\n",
       "        text-align: right;\n",
       "    }\n",
       "</style>\n",
       "<table border=\"1\" class=\"dataframe\">\n",
       "  <thead>\n",
       "    <tr style=\"text-align: right;\">\n",
       "      <th></th>\n",
       "      <th>Age</th>\n",
       "      <th>Race</th>\n",
       "      <th>Marital Status</th>\n",
       "      <th>T Stage</th>\n",
       "      <th>N Stage</th>\n",
       "      <th>6th Stage</th>\n",
       "      <th>differentiate</th>\n",
       "      <th>Grade</th>\n",
       "      <th>A Stage</th>\n",
       "      <th>Tumor Size</th>\n",
       "      <th>Estrogen Status</th>\n",
       "      <th>Progesterone Status</th>\n",
       "      <th>Regional Node Examined</th>\n",
       "      <th>Reginol Node Positive</th>\n",
       "      <th>Survival Months</th>\n",
       "      <th>Status</th>\n",
       "    </tr>\n",
       "  </thead>\n",
       "  <tbody>\n",
       "    <tr>\n",
       "      <th>0</th>\n",
       "      <td>68</td>\n",
       "      <td>White</td>\n",
       "      <td>Married</td>\n",
       "      <td>T1</td>\n",
       "      <td>N1</td>\n",
       "      <td>IIA</td>\n",
       "      <td>Poorly differentiated</td>\n",
       "      <td>3</td>\n",
       "      <td>Regional</td>\n",
       "      <td>4</td>\n",
       "      <td>Positive</td>\n",
       "      <td>Positive</td>\n",
       "      <td>24</td>\n",
       "      <td>1</td>\n",
       "      <td>60</td>\n",
       "      <td>0</td>\n",
       "    </tr>\n",
       "    <tr>\n",
       "      <th>1</th>\n",
       "      <td>50</td>\n",
       "      <td>White</td>\n",
       "      <td>Married</td>\n",
       "      <td>T2</td>\n",
       "      <td>N2</td>\n",
       "      <td>IIIA</td>\n",
       "      <td>Moderately differentiated</td>\n",
       "      <td>2</td>\n",
       "      <td>Regional</td>\n",
       "      <td>35</td>\n",
       "      <td>Positive</td>\n",
       "      <td>Positive</td>\n",
       "      <td>14</td>\n",
       "      <td>5</td>\n",
       "      <td>62</td>\n",
       "      <td>0</td>\n",
       "    </tr>\n",
       "    <tr>\n",
       "      <th>2</th>\n",
       "      <td>58</td>\n",
       "      <td>White</td>\n",
       "      <td>Divorced</td>\n",
       "      <td>T3</td>\n",
       "      <td>N3</td>\n",
       "      <td>IIIC</td>\n",
       "      <td>Moderately differentiated</td>\n",
       "      <td>2</td>\n",
       "      <td>Regional</td>\n",
       "      <td>63</td>\n",
       "      <td>Positive</td>\n",
       "      <td>Positive</td>\n",
       "      <td>14</td>\n",
       "      <td>7</td>\n",
       "      <td>75</td>\n",
       "      <td>0</td>\n",
       "    </tr>\n",
       "  </tbody>\n",
       "</table>\n",
       "</div>"
      ],
      "text/plain": [
       "   Age   Race Marital Status T Stage  N Stage 6th Stage  \\\n",
       "0   68  White        Married       T1      N1       IIA   \n",
       "1   50  White        Married       T2      N2      IIIA   \n",
       "2   58  White       Divorced       T3      N3      IIIC   \n",
       "\n",
       "               differentiate Grade   A Stage  Tumor Size Estrogen Status  \\\n",
       "0      Poorly differentiated     3  Regional           4        Positive   \n",
       "1  Moderately differentiated     2  Regional          35        Positive   \n",
       "2  Moderately differentiated     2  Regional          63        Positive   \n",
       "\n",
       "  Progesterone Status  Regional Node Examined  Reginol Node Positive  \\\n",
       "0            Positive                      24                      1   \n",
       "1            Positive                      14                      5   \n",
       "2            Positive                      14                      7   \n",
       "\n",
       "   Survival Months Status  \n",
       "0               60      0  \n",
       "1               62      0  \n",
       "2               75      0  "
      ]
     },
     "metadata": {},
     "output_type": "display_data"
    },
    {
     "data": {
      "text/markdown": [
       "## **1.4 Encoding Categorical Variable**"
      ],
      "text/plain": [
       "<IPython.core.display.Markdown object>"
      ]
     },
     "metadata": {},
     "output_type": "display_data"
    },
    {
     "data": {
      "text/html": [
       "<div>\n",
       "<style scoped>\n",
       "    .dataframe tbody tr th:only-of-type {\n",
       "        vertical-align: middle;\n",
       "    }\n",
       "\n",
       "    .dataframe tbody tr th {\n",
       "        vertical-align: top;\n",
       "    }\n",
       "\n",
       "    .dataframe thead th {\n",
       "        text-align: right;\n",
       "    }\n",
       "</style>\n",
       "<table border=\"1\" class=\"dataframe\">\n",
       "  <thead>\n",
       "    <tr style=\"text-align: right;\">\n",
       "      <th></th>\n",
       "      <th>Age</th>\n",
       "      <th>A Stage</th>\n",
       "      <th>Tumor Size</th>\n",
       "      <th>Estrogen Status</th>\n",
       "      <th>Progesterone Status</th>\n",
       "      <th>Regional Node Examined</th>\n",
       "      <th>Reginol Node Positive</th>\n",
       "      <th>Survival Months</th>\n",
       "      <th>Status</th>\n",
       "      <th>Race_Black</th>\n",
       "      <th>...</th>\n",
       "      <th>6th Stage_IIIB</th>\n",
       "      <th>6th Stage_IIIC</th>\n",
       "      <th>differentiate_Moderately differentiated</th>\n",
       "      <th>differentiate_Poorly differentiated</th>\n",
       "      <th>differentiate_Undifferentiated</th>\n",
       "      <th>differentiate_Well differentiated</th>\n",
       "      <th>Grade_ anaplastic; Grade IV</th>\n",
       "      <th>Grade_1</th>\n",
       "      <th>Grade_2</th>\n",
       "      <th>Grade_3</th>\n",
       "    </tr>\n",
       "  </thead>\n",
       "  <tbody>\n",
       "    <tr>\n",
       "      <th>0</th>\n",
       "      <td>68</td>\n",
       "      <td>1</td>\n",
       "      <td>4</td>\n",
       "      <td>1</td>\n",
       "      <td>1</td>\n",
       "      <td>24</td>\n",
       "      <td>1</td>\n",
       "      <td>60</td>\n",
       "      <td>0</td>\n",
       "      <td>False</td>\n",
       "      <td>...</td>\n",
       "      <td>False</td>\n",
       "      <td>False</td>\n",
       "      <td>False</td>\n",
       "      <td>True</td>\n",
       "      <td>False</td>\n",
       "      <td>False</td>\n",
       "      <td>False</td>\n",
       "      <td>False</td>\n",
       "      <td>False</td>\n",
       "      <td>True</td>\n",
       "    </tr>\n",
       "    <tr>\n",
       "      <th>1</th>\n",
       "      <td>50</td>\n",
       "      <td>1</td>\n",
       "      <td>35</td>\n",
       "      <td>1</td>\n",
       "      <td>1</td>\n",
       "      <td>14</td>\n",
       "      <td>5</td>\n",
       "      <td>62</td>\n",
       "      <td>0</td>\n",
       "      <td>False</td>\n",
       "      <td>...</td>\n",
       "      <td>False</td>\n",
       "      <td>False</td>\n",
       "      <td>True</td>\n",
       "      <td>False</td>\n",
       "      <td>False</td>\n",
       "      <td>False</td>\n",
       "      <td>False</td>\n",
       "      <td>False</td>\n",
       "      <td>True</td>\n",
       "      <td>False</td>\n",
       "    </tr>\n",
       "    <tr>\n",
       "      <th>2</th>\n",
       "      <td>58</td>\n",
       "      <td>1</td>\n",
       "      <td>63</td>\n",
       "      <td>1</td>\n",
       "      <td>1</td>\n",
       "      <td>14</td>\n",
       "      <td>7</td>\n",
       "      <td>75</td>\n",
       "      <td>0</td>\n",
       "      <td>False</td>\n",
       "      <td>...</td>\n",
       "      <td>False</td>\n",
       "      <td>True</td>\n",
       "      <td>True</td>\n",
       "      <td>False</td>\n",
       "      <td>False</td>\n",
       "      <td>False</td>\n",
       "      <td>False</td>\n",
       "      <td>False</td>\n",
       "      <td>True</td>\n",
       "      <td>False</td>\n",
       "    </tr>\n",
       "  </tbody>\n",
       "</table>\n",
       "<p>3 rows × 37 columns</p>\n",
       "</div>"
      ],
      "text/plain": [
       "   Age A Stage  Tumor Size Estrogen Status Progesterone Status  \\\n",
       "0   68       1           4               1                   1   \n",
       "1   50       1          35               1                   1   \n",
       "2   58       1          63               1                   1   \n",
       "\n",
       "   Regional Node Examined  Reginol Node Positive  Survival Months Status  \\\n",
       "0                      24                      1               60      0   \n",
       "1                      14                      5               62      0   \n",
       "2                      14                      7               75      0   \n",
       "\n",
       "   Race_Black  ...  6th Stage_IIIB  6th Stage_IIIC  \\\n",
       "0       False  ...           False           False   \n",
       "1       False  ...           False           False   \n",
       "2       False  ...           False            True   \n",
       "\n",
       "   differentiate_Moderately differentiated  \\\n",
       "0                                    False   \n",
       "1                                     True   \n",
       "2                                     True   \n",
       "\n",
       "   differentiate_Poorly differentiated  differentiate_Undifferentiated  \\\n",
       "0                                 True                           False   \n",
       "1                                False                           False   \n",
       "2                                False                           False   \n",
       "\n",
       "   differentiate_Well differentiated  Grade_ anaplastic; Grade IV  Grade_1  \\\n",
       "0                              False                        False    False   \n",
       "1                              False                        False    False   \n",
       "2                              False                        False    False   \n",
       "\n",
       "   Grade_2  Grade_3  \n",
       "0    False     True  \n",
       "1     True    False  \n",
       "2     True    False  \n",
       "\n",
       "[3 rows x 37 columns]"
      ]
     },
     "metadata": {},
     "output_type": "display_data"
    },
    {
     "data": {
      "text/markdown": [
       "## **1.5 Data Splitting**"
      ],
      "text/plain": [
       "<IPython.core.display.Markdown object>"
      ]
     },
     "metadata": {},
     "output_type": "display_data"
    },
    {
     "data": {
      "text/markdown": [
       "**Shapes after splitting:**"
      ],
      "text/plain": [
       "<IPython.core.display.Markdown object>"
      ]
     },
     "metadata": {},
     "output_type": "display_data"
    },
    {
     "data": {
      "text/markdown": [
       "- X_train shape: (3219, 36)"
      ],
      "text/plain": [
       "<IPython.core.display.Markdown object>"
      ]
     },
     "metadata": {},
     "output_type": "display_data"
    },
    {
     "data": {
      "text/markdown": [
       "- X_test shape: (805, 36)"
      ],
      "text/plain": [
       "<IPython.core.display.Markdown object>"
      ]
     },
     "metadata": {},
     "output_type": "display_data"
    },
    {
     "data": {
      "text/markdown": [
       "- y_train shape: (3219,)"
      ],
      "text/plain": [
       "<IPython.core.display.Markdown object>"
      ]
     },
     "metadata": {},
     "output_type": "display_data"
    },
    {
     "data": {
      "text/markdown": [
       "- y_test shape: (805,)"
      ],
      "text/plain": [
       "<IPython.core.display.Markdown object>"
      ]
     },
     "metadata": {},
     "output_type": "display_data"
    }
   ],
   "source": [
    "display(Markdown('## **1.1 Load Dataset**'))\n",
    "df = pd.read_csv('./Breast_Cancer.csv')\n",
    "display(Markdown('**Sample of df**'))\n",
    "display(df.head(3))\n",
    "display(Markdown(f'**Initial shape**: {df.shape}'))\n",
    "\n",
    "display(Markdown('## **1.2 Handlind missing values**'))\n",
    "clean_df = df.dropna()\n",
    "display(Markdown(f'**Missing values removed**: {clean_df.shape}'))\n",
    "\n",
    "display(Markdown('## **1.3 Encoding the Outcome Variable**'))\n",
    "clean_df.loc[clean_df['Status']=='Alive','Status']=0\n",
    "clean_df.loc[clean_df['Status']=='Dead','Status']=1\n",
    "display(clean_df.head(3))\n",
    "\n",
    "display(Markdown('## **1.4 Encoding Categorical Variable**'))\n",
    "clean_df.loc[clean_df['A Stage']=='Distant','A Stage']=0\n",
    "clean_df.loc[clean_df['A Stage']=='Regional','A Stage']=1\n",
    "clean_df.loc[clean_df['Estrogen Status']=='Negative','Estrogen Status']=0\n",
    "clean_df.loc[clean_df['Estrogen Status']=='Positive','Estrogen Status']=1\n",
    "clean_df.loc[clean_df['Progesterone Status']=='Negative','Progesterone Status']=0\n",
    "clean_df.loc[clean_df['Progesterone Status']=='Positive','Progesterone Status']=1\n",
    "encoded_df = pd.get_dummies(clean_df, columns=['Race', 'Marital Status', 'T Stage ', 'N Stage', '6th Stage', 'differentiate', 'Grade'])\n",
    "display(encoded_df.head(3))\n",
    "\n",
    "display(Markdown('## **1.5 Data Splitting**'))\n",
    "y = np.array(encoded_df['Status']).astype(int)\n",
    "X = np.array(encoded_df.drop(columns='Status'))\n",
    "X_train, X_test, y_train, y_test = train_test_split(X, y, test_size=0.2, random_state=0)\n",
    "display(Markdown(f'**Shapes after splitting:**'))\n",
    "display(Markdown(f'- X_train shape: {X_train.shape}'))\n",
    "display(Markdown(f'- X_test shape: {X_test.shape}'))\n",
    "display(Markdown(f'- y_train shape: {y_train.shape}'))\n",
    "display(Markdown(f'- y_test shape: {y_test.shape}'))"
   ]
  },
  {
   "cell_type": "markdown",
   "id": "70ab3bc7-2b41-4bec-b485-f21d8ec043ef",
   "metadata": {},
   "source": [
    "# **2 Fitting the Models**"
   ]
  },
  {
   "cell_type": "code",
   "execution_count": 3,
   "id": "a9b3230c-7e62-4d0b-b407-1dfea12d6bab",
   "metadata": {},
   "outputs": [],
   "source": [
    "logistic = LogisticRegression(max_iter=1102) # increase max iter to converge\n",
    "logistic.fit(X_train, y_train)\n",
    "y_pred_prob_logistic = logistic.predict_proba(X_test)[:, 1]\n",
    "y_pred_logistic = logistic.predict(X_test)\n",
    "\n",
    "mlp_clf = MLPClassifier(hidden_layer_sizes=(10, 10), max_iter=1000, random_state=0)\n",
    "mlp_clf.fit(X_train, y_train)\n",
    "y_pred_prob_mlp = mlp_clf.predict_proba(X_test)[:, 1]\n",
    "y_pred_mlp = mlp_clf.predict(X_test)"
   ]
  },
  {
   "cell_type": "markdown",
   "id": "99c42079-5d04-407c-a86d-46c4d0bb85c4",
   "metadata": {},
   "source": [
    "# **3 Evaluation Metrics**"
   ]
  },
  {
   "cell_type": "code",
   "execution_count": 4,
   "id": "228d436b-3587-435f-8447-a5408cabe4ae",
   "metadata": {},
   "outputs": [
    {
     "data": {
      "text/markdown": [
       "**Accuracy results**"
      ],
      "text/plain": [
       "<IPython.core.display.Markdown object>"
      ]
     },
     "metadata": {},
     "output_type": "display_data"
    },
    {
     "data": {
      "text/markdown": [
       "- **Logistic:** 0.89"
      ],
      "text/plain": [
       "<IPython.core.display.Markdown object>"
      ]
     },
     "metadata": {},
     "output_type": "display_data"
    },
    {
     "data": {
      "text/markdown": [
       "- **MLP:** 0.90"
      ],
      "text/plain": [
       "<IPython.core.display.Markdown object>"
      ]
     },
     "metadata": {},
     "output_type": "display_data"
    },
    {
     "data": {
      "text/markdown": [
       "**Recall results**"
      ],
      "text/plain": [
       "<IPython.core.display.Markdown object>"
      ]
     },
     "metadata": {},
     "output_type": "display_data"
    },
    {
     "data": {
      "text/markdown": [
       "- **Logistic:** 0.40"
      ],
      "text/plain": [
       "<IPython.core.display.Markdown object>"
      ]
     },
     "metadata": {},
     "output_type": "display_data"
    },
    {
     "data": {
      "text/markdown": [
       "- **MLP:** 0.44"
      ],
      "text/plain": [
       "<IPython.core.display.Markdown object>"
      ]
     },
     "metadata": {},
     "output_type": "display_data"
    },
    {
     "data": {
      "text/markdown": [
       "**Precision results**"
      ],
      "text/plain": [
       "<IPython.core.display.Markdown object>"
      ]
     },
     "metadata": {},
     "output_type": "display_data"
    },
    {
     "data": {
      "text/markdown": [
       "- **Logistic:** 0.80"
      ],
      "text/plain": [
       "<IPython.core.display.Markdown object>"
      ]
     },
     "metadata": {},
     "output_type": "display_data"
    },
    {
     "data": {
      "text/markdown": [
       "- **MLP:** 0.85"
      ],
      "text/plain": [
       "<IPython.core.display.Markdown object>"
      ]
     },
     "metadata": {},
     "output_type": "display_data"
    },
    {
     "data": {
      "text/markdown": [
       "**F1 Score results**"
      ],
      "text/plain": [
       "<IPython.core.display.Markdown object>"
      ]
     },
     "metadata": {},
     "output_type": "display_data"
    },
    {
     "data": {
      "text/markdown": [
       "- **Logistic:** 0.53"
      ],
      "text/plain": [
       "<IPython.core.display.Markdown object>"
      ]
     },
     "metadata": {},
     "output_type": "display_data"
    },
    {
     "data": {
      "text/markdown": [
       "- **MLP:** 0.58"
      ],
      "text/plain": [
       "<IPython.core.display.Markdown object>"
      ]
     },
     "metadata": {},
     "output_type": "display_data"
    }
   ],
   "source": [
    "display(Markdown('**Accuracy results**'))\n",
    "accuracy_logistic = accuracy_score(y_test, y_pred_logistic)\n",
    "accuracy_mlp = accuracy_score(y_test, y_pred_mlp)\n",
    "display(Markdown(f'- **Logistic:** {accuracy_logistic:.2f}'))\n",
    "display(Markdown(f'- **MLP:** {accuracy_mlp:.2f}'))\n",
    "\n",
    "display(Markdown('**Recall results**'))\n",
    "recall_logistic = recall_score(y_test, y_pred_logistic)\n",
    "recall_mlp = recall_score(y_test, y_pred_mlp)\n",
    "display(Markdown(f'- **Logistic:** {recall_logistic:.2f}'))\n",
    "display(Markdown(f'- **MLP:** {recall_mlp:.2f}'))\n",
    "\n",
    "display(Markdown('**Precision results**'))\n",
    "precision_logistic = precision_score(y_test, y_pred_logistic)\n",
    "precision_mlp = precision_score(y_test, y_pred_mlp)\n",
    "display(Markdown(f'- **Logistic:** {precision_logistic:.2f}'))\n",
    "display(Markdown(f'- **MLP:** {precision_mlp:.2f}'))\n",
    "\n",
    "display(Markdown('**F1 Score results**'))\n",
    "f1_score_logistic = f1_score(y_test, y_pred_logistic)\n",
    "f1_score_mlp = f1_score(y_test, y_pred_mlp)\n",
    "display(Markdown(f'- **Logistic:** {f1_score_logistic:.2f}'))\n",
    "display(Markdown(f'- **MLP:** {f1_score_mlp:.2f}'))"
   ]
  },
  {
   "cell_type": "markdown",
   "id": "bd5eb158-38ba-476f-949f-1be3607a58a2",
   "metadata": {},
   "source": [
    "**Comparison and Analysis**  \n",
    "The MLP Neural Network did better than Logistic Regression on all metrics. This indicates that the MLP model better captured complex patterns in the data, likely due to its higher complexity. Given the objective of predicting patient status reliably, the MLP’s higher recall and F1 score make it the better choice for this classification task.  \n",
    "To further improve results, we could obtain more data or optimize parameters for the MLP classifier."
   ]
  }
 ],
 "metadata": {
  "kernelspec": {
   "display_name": "Python 3 (ipykernel)",
   "language": "python",
   "name": "python3"
  },
  "language_info": {
   "codemirror_mode": {
    "name": "ipython",
    "version": 3
   },
   "file_extension": ".py",
   "mimetype": "text/x-python",
   "name": "python",
   "nbconvert_exporter": "python",
   "pygments_lexer": "ipython3",
   "version": "3.12.3"
  }
 },
 "nbformat": 4,
 "nbformat_minor": 5
}
